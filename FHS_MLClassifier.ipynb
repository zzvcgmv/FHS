{
  "nbformat": 4,
  "nbformat_minor": 0,
  "metadata": {
    "colab": {
      "provenance": [],
      "authorship_tag": "ABX9TyM+JGNuSMeVF7DYWlhDQfky",
      "include_colab_link": true
    },
    "kernelspec": {
      "name": "python3",
      "display_name": "Python 3"
    },
    "language_info": {
      "name": "python"
    }
  },
  "cells": [
    {
      "cell_type": "markdown",
      "metadata": {
        "id": "view-in-github",
        "colab_type": "text"
      },
      "source": [
        "<a href=\"https://colab.research.google.com/github/zzvcgmv/FHS/blob/main/FHS_MLClassifier.ipynb\" target=\"_parent\"><img src=\"https://colab.research.google.com/assets/colab-badge.svg\" alt=\"Open In Colab\"/></a>"
      ]
    },
    {
      "cell_type": "code",
      "execution_count": null,
      "metadata": {
        "id": "CJwopT6h4hYV",
        "colab": {
          "base_uri": "https://localhost:8080/"
        },
        "outputId": "9404c6cc-14be-49f0-d484-5f602754fd11"
      },
      "outputs": [
        {
          "output_type": "stream",
          "name": "stderr",
          "text": [
            "WARNING:root:pydrive is deprecated and no longer maintained. We recommend that you migrate your projects to pydrive2, the maintained fork of pydrive\n"
          ]
        }
      ],
      "source": [
        "!pip install -U -q PyDrive\n",
        "\n",
        "from pydrive.auth import GoogleAuth\n",
        "from pydrive.drive import GoogleDrive\n",
        "from google.colab import auth\n",
        "from oauth2client.client import GoogleCredentials\n",
        "\n",
        "auth.authenticate_user()\n",
        "gauth = GoogleAuth()\n",
        "gauth.credentials = GoogleCredentials.get_application_default()\n",
        "drive = GoogleDrive(gauth)\n",
        "\n",
        "#FHS_link = 'https://drive.google.com/file/d/1LTC4DR34YKCTMeW0H72hd8qo-dubcO6C/view?usp=sharing'\n",
        "idFHS = \"1LTC4DR34YKCTMeW0H72hd8qo-dubcO6C\"\n",
        "file = drive.CreateFile({'id':idFHS})\n",
        "file.GetContentFile('framingham.csv')"
      ]
    },
    {
      "cell_type": "markdown",
      "source": [
        "**1. Load the Dataset and Import Packages**"
      ],
      "metadata": {
        "id": "OY2AT-ZL5WXb"
      }
    },
    {
      "cell_type": "code",
      "source": [
        "import numpy as np\n",
        "import pandas as pd\n",
        "import seaborn as sns\n",
        "import missingno as msno\n",
        "from matplotlib import pyplot as plt\n",
        "from scipy.stats import ttest_ind, mannwhitneyu\n",
        "import plotly.graph_objects as go\n",
        "from plotly.subplots import make_subplots\n",
        "import plotly.express as px\n",
        "sns.set()\n",
        "sns.set_style(\"whitegrid\")"
      ],
      "metadata": {
        "id": "JWGjHcM15drX"
      },
      "execution_count": null,
      "outputs": []
    },
    {
      "cell_type": "code",
      "source": [
        "df = pd.read_csv('framingham.csv')\n",
        "df.head()"
      ],
      "metadata": {
        "colab": {
          "base_uri": "https://localhost:8080/",
          "height": 226
        },
        "id": "OXV9ZDTY5wSa",
        "outputId": "7e0d8187-7a7a-48ad-eb7e-dc8cabaf1ed9"
      },
      "execution_count": null,
      "outputs": [
        {
          "output_type": "execute_result",
          "data": {
            "text/plain": [
              "   gender  age  education  currentSmoker  cigsPerDay  BPMeds  prevalentStroke  \\\n",
              "0       1   39        4.0              0         0.0     0.0                0   \n",
              "1       0   46        2.0              0         0.0     0.0                0   \n",
              "2       1   48        1.0              1        20.0     0.0                0   \n",
              "3       0   61        3.0              1        30.0     0.0                0   \n",
              "4       0   46        3.0              1        23.0     0.0                0   \n",
              "\n",
              "   prevalentHyp  diabetes  totChol  sysBP  diaBP    BMI  heartRate  glucose  \\\n",
              "0             0         0    195.0  106.0   70.0  26.97       80.0     77.0   \n",
              "1             0         0    250.0  121.0   81.0  28.73       95.0     76.0   \n",
              "2             0         0    245.0  127.5   80.0  25.34       75.0     70.0   \n",
              "3             1         0    225.0  150.0   95.0  28.58       65.0    103.0   \n",
              "4             0         0    285.0  130.0   84.0  23.10       85.0     85.0   \n",
              "\n",
              "   TenYearCHD  \n",
              "0           0  \n",
              "1           0  \n",
              "2           0  \n",
              "3           1  \n",
              "4           0  "
            ],
            "text/html": [
              "\n",
              "  <div id=\"df-8d0723a8-49d5-4243-b2cc-56fa71c06782\" class=\"colab-df-container\">\n",
              "    <div>\n",
              "<style scoped>\n",
              "    .dataframe tbody tr th:only-of-type {\n",
              "        vertical-align: middle;\n",
              "    }\n",
              "\n",
              "    .dataframe tbody tr th {\n",
              "        vertical-align: top;\n",
              "    }\n",
              "\n",
              "    .dataframe thead th {\n",
              "        text-align: right;\n",
              "    }\n",
              "</style>\n",
              "<table border=\"1\" class=\"dataframe\">\n",
              "  <thead>\n",
              "    <tr style=\"text-align: right;\">\n",
              "      <th></th>\n",
              "      <th>gender</th>\n",
              "      <th>age</th>\n",
              "      <th>education</th>\n",
              "      <th>currentSmoker</th>\n",
              "      <th>cigsPerDay</th>\n",
              "      <th>BPMeds</th>\n",
              "      <th>prevalentStroke</th>\n",
              "      <th>prevalentHyp</th>\n",
              "      <th>diabetes</th>\n",
              "      <th>totChol</th>\n",
              "      <th>sysBP</th>\n",
              "      <th>diaBP</th>\n",
              "      <th>BMI</th>\n",
              "      <th>heartRate</th>\n",
              "      <th>glucose</th>\n",
              "      <th>TenYearCHD</th>\n",
              "    </tr>\n",
              "  </thead>\n",
              "  <tbody>\n",
              "    <tr>\n",
              "      <th>0</th>\n",
              "      <td>1</td>\n",
              "      <td>39</td>\n",
              "      <td>4.0</td>\n",
              "      <td>0</td>\n",
              "      <td>0.0</td>\n",
              "      <td>0.0</td>\n",
              "      <td>0</td>\n",
              "      <td>0</td>\n",
              "      <td>0</td>\n",
              "      <td>195.0</td>\n",
              "      <td>106.0</td>\n",
              "      <td>70.0</td>\n",
              "      <td>26.97</td>\n",
              "      <td>80.0</td>\n",
              "      <td>77.0</td>\n",
              "      <td>0</td>\n",
              "    </tr>\n",
              "    <tr>\n",
              "      <th>1</th>\n",
              "      <td>0</td>\n",
              "      <td>46</td>\n",
              "      <td>2.0</td>\n",
              "      <td>0</td>\n",
              "      <td>0.0</td>\n",
              "      <td>0.0</td>\n",
              "      <td>0</td>\n",
              "      <td>0</td>\n",
              "      <td>0</td>\n",
              "      <td>250.0</td>\n",
              "      <td>121.0</td>\n",
              "      <td>81.0</td>\n",
              "      <td>28.73</td>\n",
              "      <td>95.0</td>\n",
              "      <td>76.0</td>\n",
              "      <td>0</td>\n",
              "    </tr>\n",
              "    <tr>\n",
              "      <th>2</th>\n",
              "      <td>1</td>\n",
              "      <td>48</td>\n",
              "      <td>1.0</td>\n",
              "      <td>1</td>\n",
              "      <td>20.0</td>\n",
              "      <td>0.0</td>\n",
              "      <td>0</td>\n",
              "      <td>0</td>\n",
              "      <td>0</td>\n",
              "      <td>245.0</td>\n",
              "      <td>127.5</td>\n",
              "      <td>80.0</td>\n",
              "      <td>25.34</td>\n",
              "      <td>75.0</td>\n",
              "      <td>70.0</td>\n",
              "      <td>0</td>\n",
              "    </tr>\n",
              "    <tr>\n",
              "      <th>3</th>\n",
              "      <td>0</td>\n",
              "      <td>61</td>\n",
              "      <td>3.0</td>\n",
              "      <td>1</td>\n",
              "      <td>30.0</td>\n",
              "      <td>0.0</td>\n",
              "      <td>0</td>\n",
              "      <td>1</td>\n",
              "      <td>0</td>\n",
              "      <td>225.0</td>\n",
              "      <td>150.0</td>\n",
              "      <td>95.0</td>\n",
              "      <td>28.58</td>\n",
              "      <td>65.0</td>\n",
              "      <td>103.0</td>\n",
              "      <td>1</td>\n",
              "    </tr>\n",
              "    <tr>\n",
              "      <th>4</th>\n",
              "      <td>0</td>\n",
              "      <td>46</td>\n",
              "      <td>3.0</td>\n",
              "      <td>1</td>\n",
              "      <td>23.0</td>\n",
              "      <td>0.0</td>\n",
              "      <td>0</td>\n",
              "      <td>0</td>\n",
              "      <td>0</td>\n",
              "      <td>285.0</td>\n",
              "      <td>130.0</td>\n",
              "      <td>84.0</td>\n",
              "      <td>23.10</td>\n",
              "      <td>85.0</td>\n",
              "      <td>85.0</td>\n",
              "      <td>0</td>\n",
              "    </tr>\n",
              "  </tbody>\n",
              "</table>\n",
              "</div>\n",
              "    <div class=\"colab-df-buttons\">\n",
              "\n",
              "  <div class=\"colab-df-container\">\n",
              "    <button class=\"colab-df-convert\" onclick=\"convertToInteractive('df-8d0723a8-49d5-4243-b2cc-56fa71c06782')\"\n",
              "            title=\"Convert this dataframe to an interactive table.\"\n",
              "            style=\"display:none;\">\n",
              "\n",
              "  <svg xmlns=\"http://www.w3.org/2000/svg\" height=\"24px\" viewBox=\"0 -960 960 960\">\n",
              "    <path d=\"M120-120v-720h720v720H120Zm60-500h600v-160H180v160Zm220 220h160v-160H400v160Zm0 220h160v-160H400v160ZM180-400h160v-160H180v160Zm440 0h160v-160H620v160ZM180-180h160v-160H180v160Zm440 0h160v-160H620v160Z\"/>\n",
              "  </svg>\n",
              "    </button>\n",
              "\n",
              "  <style>\n",
              "    .colab-df-container {\n",
              "      display:flex;\n",
              "      gap: 12px;\n",
              "    }\n",
              "\n",
              "    .colab-df-convert {\n",
              "      background-color: #E8F0FE;\n",
              "      border: none;\n",
              "      border-radius: 50%;\n",
              "      cursor: pointer;\n",
              "      display: none;\n",
              "      fill: #1967D2;\n",
              "      height: 32px;\n",
              "      padding: 0 0 0 0;\n",
              "      width: 32px;\n",
              "    }\n",
              "\n",
              "    .colab-df-convert:hover {\n",
              "      background-color: #E2EBFA;\n",
              "      box-shadow: 0px 1px 2px rgba(60, 64, 67, 0.3), 0px 1px 3px 1px rgba(60, 64, 67, 0.15);\n",
              "      fill: #174EA6;\n",
              "    }\n",
              "\n",
              "    .colab-df-buttons div {\n",
              "      margin-bottom: 4px;\n",
              "    }\n",
              "\n",
              "    [theme=dark] .colab-df-convert {\n",
              "      background-color: #3B4455;\n",
              "      fill: #D2E3FC;\n",
              "    }\n",
              "\n",
              "    [theme=dark] .colab-df-convert:hover {\n",
              "      background-color: #434B5C;\n",
              "      box-shadow: 0px 1px 3px 1px rgba(0, 0, 0, 0.15);\n",
              "      filter: drop-shadow(0px 1px 2px rgba(0, 0, 0, 0.3));\n",
              "      fill: #FFFFFF;\n",
              "    }\n",
              "  </style>\n",
              "\n",
              "    <script>\n",
              "      const buttonEl =\n",
              "        document.querySelector('#df-8d0723a8-49d5-4243-b2cc-56fa71c06782 button.colab-df-convert');\n",
              "      buttonEl.style.display =\n",
              "        google.colab.kernel.accessAllowed ? 'block' : 'none';\n",
              "\n",
              "      async function convertToInteractive(key) {\n",
              "        const element = document.querySelector('#df-8d0723a8-49d5-4243-b2cc-56fa71c06782');\n",
              "        const dataTable =\n",
              "          await google.colab.kernel.invokeFunction('convertToInteractive',\n",
              "                                                    [key], {});\n",
              "        if (!dataTable) return;\n",
              "\n",
              "        const docLinkHtml = 'Like what you see? Visit the ' +\n",
              "          '<a target=\"_blank\" href=https://colab.research.google.com/notebooks/data_table.ipynb>data table notebook</a>'\n",
              "          + ' to learn more about interactive tables.';\n",
              "        element.innerHTML = '';\n",
              "        dataTable['output_type'] = 'display_data';\n",
              "        await google.colab.output.renderOutput(dataTable, element);\n",
              "        const docLink = document.createElement('div');\n",
              "        docLink.innerHTML = docLinkHtml;\n",
              "        element.appendChild(docLink);\n",
              "      }\n",
              "    </script>\n",
              "  </div>\n",
              "\n",
              "\n",
              "    <div id=\"df-c37d85ae-e380-4dbe-ae17-bbd60712010c\">\n",
              "      <button class=\"colab-df-quickchart\" onclick=\"quickchart('df-c37d85ae-e380-4dbe-ae17-bbd60712010c')\"\n",
              "                title=\"Suggest charts\"\n",
              "                style=\"display:none;\">\n",
              "\n",
              "<svg xmlns=\"http://www.w3.org/2000/svg\" height=\"24px\"viewBox=\"0 0 24 24\"\n",
              "     width=\"24px\">\n",
              "    <g>\n",
              "        <path d=\"M19 3H5c-1.1 0-2 .9-2 2v14c0 1.1.9 2 2 2h14c1.1 0 2-.9 2-2V5c0-1.1-.9-2-2-2zM9 17H7v-7h2v7zm4 0h-2V7h2v10zm4 0h-2v-4h2v4z\"/>\n",
              "    </g>\n",
              "</svg>\n",
              "      </button>\n",
              "\n",
              "<style>\n",
              "  .colab-df-quickchart {\n",
              "      --bg-color: #E8F0FE;\n",
              "      --fill-color: #1967D2;\n",
              "      --hover-bg-color: #E2EBFA;\n",
              "      --hover-fill-color: #174EA6;\n",
              "      --disabled-fill-color: #AAA;\n",
              "      --disabled-bg-color: #DDD;\n",
              "  }\n",
              "\n",
              "  [theme=dark] .colab-df-quickchart {\n",
              "      --bg-color: #3B4455;\n",
              "      --fill-color: #D2E3FC;\n",
              "      --hover-bg-color: #434B5C;\n",
              "      --hover-fill-color: #FFFFFF;\n",
              "      --disabled-bg-color: #3B4455;\n",
              "      --disabled-fill-color: #666;\n",
              "  }\n",
              "\n",
              "  .colab-df-quickchart {\n",
              "    background-color: var(--bg-color);\n",
              "    border: none;\n",
              "    border-radius: 50%;\n",
              "    cursor: pointer;\n",
              "    display: none;\n",
              "    fill: var(--fill-color);\n",
              "    height: 32px;\n",
              "    padding: 0;\n",
              "    width: 32px;\n",
              "  }\n",
              "\n",
              "  .colab-df-quickchart:hover {\n",
              "    background-color: var(--hover-bg-color);\n",
              "    box-shadow: 0 1px 2px rgba(60, 64, 67, 0.3), 0 1px 3px 1px rgba(60, 64, 67, 0.15);\n",
              "    fill: var(--button-hover-fill-color);\n",
              "  }\n",
              "\n",
              "  .colab-df-quickchart-complete:disabled,\n",
              "  .colab-df-quickchart-complete:disabled:hover {\n",
              "    background-color: var(--disabled-bg-color);\n",
              "    fill: var(--disabled-fill-color);\n",
              "    box-shadow: none;\n",
              "  }\n",
              "\n",
              "  .colab-df-spinner {\n",
              "    border: 2px solid var(--fill-color);\n",
              "    border-color: transparent;\n",
              "    border-bottom-color: var(--fill-color);\n",
              "    animation:\n",
              "      spin 1s steps(1) infinite;\n",
              "  }\n",
              "\n",
              "  @keyframes spin {\n",
              "    0% {\n",
              "      border-color: transparent;\n",
              "      border-bottom-color: var(--fill-color);\n",
              "      border-left-color: var(--fill-color);\n",
              "    }\n",
              "    20% {\n",
              "      border-color: transparent;\n",
              "      border-left-color: var(--fill-color);\n",
              "      border-top-color: var(--fill-color);\n",
              "    }\n",
              "    30% {\n",
              "      border-color: transparent;\n",
              "      border-left-color: var(--fill-color);\n",
              "      border-top-color: var(--fill-color);\n",
              "      border-right-color: var(--fill-color);\n",
              "    }\n",
              "    40% {\n",
              "      border-color: transparent;\n",
              "      border-right-color: var(--fill-color);\n",
              "      border-top-color: var(--fill-color);\n",
              "    }\n",
              "    60% {\n",
              "      border-color: transparent;\n",
              "      border-right-color: var(--fill-color);\n",
              "    }\n",
              "    80% {\n",
              "      border-color: transparent;\n",
              "      border-right-color: var(--fill-color);\n",
              "      border-bottom-color: var(--fill-color);\n",
              "    }\n",
              "    90% {\n",
              "      border-color: transparent;\n",
              "      border-bottom-color: var(--fill-color);\n",
              "    }\n",
              "  }\n",
              "</style>\n",
              "\n",
              "      <script>\n",
              "        async function quickchart(key) {\n",
              "          const quickchartButtonEl =\n",
              "            document.querySelector('#' + key + ' button');\n",
              "          quickchartButtonEl.disabled = true;  // To prevent multiple clicks.\n",
              "          quickchartButtonEl.classList.add('colab-df-spinner');\n",
              "          try {\n",
              "            const charts = await google.colab.kernel.invokeFunction(\n",
              "                'suggestCharts', [key], {});\n",
              "          } catch (error) {\n",
              "            console.error('Error during call to suggestCharts:', error);\n",
              "          }\n",
              "          quickchartButtonEl.classList.remove('colab-df-spinner');\n",
              "          quickchartButtonEl.classList.add('colab-df-quickchart-complete');\n",
              "        }\n",
              "        (() => {\n",
              "          let quickchartButtonEl =\n",
              "            document.querySelector('#df-c37d85ae-e380-4dbe-ae17-bbd60712010c button');\n",
              "          quickchartButtonEl.style.display =\n",
              "            google.colab.kernel.accessAllowed ? 'block' : 'none';\n",
              "        })();\n",
              "      </script>\n",
              "    </div>\n",
              "\n",
              "    </div>\n",
              "  </div>\n"
            ],
            "application/vnd.google.colaboratory.intrinsic+json": {
              "type": "dataframe",
              "variable_name": "df",
              "summary": "{\n  \"name\": \"df\",\n  \"rows\": 4240,\n  \"fields\": [\n    {\n      \"column\": \"gender\",\n      \"properties\": {\n        \"dtype\": \"number\",\n        \"std\": 0,\n        \"min\": 0,\n        \"max\": 1,\n        \"num_unique_values\": 2,\n        \"samples\": [\n          0,\n          1\n        ],\n        \"semantic_type\": \"\",\n        \"description\": \"\"\n      }\n    },\n    {\n      \"column\": \"age\",\n      \"properties\": {\n        \"dtype\": \"number\",\n        \"std\": 8,\n        \"min\": 32,\n        \"max\": 70,\n        \"num_unique_values\": 39,\n        \"samples\": [\n          34,\n          70\n        ],\n        \"semantic_type\": \"\",\n        \"description\": \"\"\n      }\n    },\n    {\n      \"column\": \"education\",\n      \"properties\": {\n        \"dtype\": \"number\",\n        \"std\": 1.0197911793650334,\n        \"min\": 1.0,\n        \"max\": 4.0,\n        \"num_unique_values\": 4,\n        \"samples\": [\n          2.0,\n          3.0\n        ],\n        \"semantic_type\": \"\",\n        \"description\": \"\"\n      }\n    },\n    {\n      \"column\": \"currentSmoker\",\n      \"properties\": {\n        \"dtype\": \"number\",\n        \"std\": 0,\n        \"min\": 0,\n        \"max\": 1,\n        \"num_unique_values\": 2,\n        \"samples\": [\n          1,\n          0\n        ],\n        \"semantic_type\": \"\",\n        \"description\": \"\"\n      }\n    },\n    {\n      \"column\": \"cigsPerDay\",\n      \"properties\": {\n        \"dtype\": \"number\",\n        \"std\": 11.922461800608747,\n        \"min\": 0.0,\n        \"max\": 70.0,\n        \"num_unique_values\": 33,\n        \"samples\": [\n          19.0,\n          4.0\n        ],\n        \"semantic_type\": \"\",\n        \"description\": \"\"\n      }\n    },\n    {\n      \"column\": \"BPMeds\",\n      \"properties\": {\n        \"dtype\": \"number\",\n        \"std\": 0.16954428739625657,\n        \"min\": 0.0,\n        \"max\": 1.0,\n        \"num_unique_values\": 2,\n        \"samples\": [\n          1.0,\n          0.0\n        ],\n        \"semantic_type\": \"\",\n        \"description\": \"\"\n      }\n    },\n    {\n      \"column\": \"prevalentStroke\",\n      \"properties\": {\n        \"dtype\": \"number\",\n        \"std\": 0,\n        \"min\": 0,\n        \"max\": 1,\n        \"num_unique_values\": 2,\n        \"samples\": [\n          1,\n          0\n        ],\n        \"semantic_type\": \"\",\n        \"description\": \"\"\n      }\n    },\n    {\n      \"column\": \"prevalentHyp\",\n      \"properties\": {\n        \"dtype\": \"number\",\n        \"std\": 0,\n        \"min\": 0,\n        \"max\": 1,\n        \"num_unique_values\": 2,\n        \"samples\": [\n          1,\n          0\n        ],\n        \"semantic_type\": \"\",\n        \"description\": \"\"\n      }\n    },\n    {\n      \"column\": \"diabetes\",\n      \"properties\": {\n        \"dtype\": \"number\",\n        \"std\": 0,\n        \"min\": 0,\n        \"max\": 1,\n        \"num_unique_values\": 2,\n        \"samples\": [\n          1,\n          0\n        ],\n        \"semantic_type\": \"\",\n        \"description\": \"\"\n      }\n    },\n    {\n      \"column\": \"totChol\",\n      \"properties\": {\n        \"dtype\": \"number\",\n        \"std\": 44.59128386860702,\n        \"min\": 107.0,\n        \"max\": 696.0,\n        \"num_unique_values\": 248,\n        \"samples\": [\n          311.0,\n          205.0\n        ],\n        \"semantic_type\": \"\",\n        \"description\": \"\"\n      }\n    },\n    {\n      \"column\": \"sysBP\",\n      \"properties\": {\n        \"dtype\": \"number\",\n        \"std\": 22.0332996088492,\n        \"min\": 83.5,\n        \"max\": 295.0,\n        \"num_unique_values\": 234,\n        \"samples\": [\n          109.0,\n          184.5\n        ],\n        \"semantic_type\": \"\",\n        \"description\": \"\"\n      }\n    },\n    {\n      \"column\": \"diaBP\",\n      \"properties\": {\n        \"dtype\": \"number\",\n        \"std\": 11.910394483305936,\n        \"min\": 48.0,\n        \"max\": 142.5,\n        \"num_unique_values\": 146,\n        \"samples\": [\n          106.0,\n          108.5\n        ],\n        \"semantic_type\": \"\",\n        \"description\": \"\"\n      }\n    },\n    {\n      \"column\": \"BMI\",\n      \"properties\": {\n        \"dtype\": \"number\",\n        \"std\": 4.079840168944382,\n        \"min\": 15.54,\n        \"max\": 56.8,\n        \"num_unique_values\": 1364,\n        \"samples\": [\n          24.56,\n          19.87\n        ],\n        \"semantic_type\": \"\",\n        \"description\": \"\"\n      }\n    },\n    {\n      \"column\": \"heartRate\",\n      \"properties\": {\n        \"dtype\": \"number\",\n        \"std\": 12.025347984469342,\n        \"min\": 44.0,\n        \"max\": 143.0,\n        \"num_unique_values\": 73,\n        \"samples\": [\n          85.0,\n          47.0\n        ],\n        \"semantic_type\": \"\",\n        \"description\": \"\"\n      }\n    },\n    {\n      \"column\": \"glucose\",\n      \"properties\": {\n        \"dtype\": \"number\",\n        \"std\": 23.95433481134474,\n        \"min\": 40.0,\n        \"max\": 394.0,\n        \"num_unique_values\": 143,\n        \"samples\": [\n          394.0,\n          74.0\n        ],\n        \"semantic_type\": \"\",\n        \"description\": \"\"\n      }\n    },\n    {\n      \"column\": \"TenYearCHD\",\n      \"properties\": {\n        \"dtype\": \"number\",\n        \"std\": 0,\n        \"min\": 0,\n        \"max\": 1,\n        \"num_unique_values\": 2,\n        \"samples\": [\n          1,\n          0\n        ],\n        \"semantic_type\": \"\",\n        \"description\": \"\"\n      }\n    }\n  ]\n}"
            }
          },
          "metadata": {},
          "execution_count": 4
        }
      ]
    },
    {
      "cell_type": "code",
      "source": [
        "# Convert columns to the correct data type\n",
        "df['gender'] = df['gender'].astype('category')\n",
        "df['education'] = df['education'].astype('category')\n",
        "df['currentSmoker'] = df['currentSmoker'].astype('category')\n",
        "df['BPMeds'] = df['BPMeds'].astype('category')\n",
        "df['prevalentStroke'] = df['prevalentStroke'].astype('category')\n",
        "df['prevalentHyp'] = df['prevalentHyp'].astype('category')\n",
        "df['diabetes'] = df['diabetes'].astype('category')\n",
        "df['TenYearCHD'] = df['TenYearCHD'].astype('category')"
      ],
      "metadata": {
        "id": "a8yEn9jA6DbA"
      },
      "execution_count": null,
      "outputs": []
    },
    {
      "cell_type": "code",
      "source": [
        "# Summary Statistics\n",
        "## Continuous Variables\n",
        "df.describe()\n",
        "## Categorical Variable Distribution\n",
        "categorical_columns = [\"gender\", \"education\", \"currentSmoker\", \"BPMeds\", \"prevalentStroke\", \"prevalentHyp\", \"diabetes\"]\n",
        "categorical_summary = []\n",
        "for col in categorical_columns:\n",
        "    counts = df[col].value_counts(dropna=False)\n",
        "    percentages = df[col].value_counts(normalize=True, dropna=False) * 100\n",
        "\n",
        "    summary_df = pd.DataFrame({\n",
        "        \"Category\": counts.index.fillna(\"Missing\"),\n",
        "        \"Count\": counts.values,\n",
        "        \"Percentage\": percentages.values\n",
        "    })\n",
        "\n",
        "    summary_df[\"Cumulative Percentage\"] = summary_df[\"Percentage\"].cumsum()\n",
        "\n",
        "    summary_df[\"Variable\"] = col\n",
        "    categorical_summary.append(summary_df)\n",
        "\n",
        "categorical_summary_df = pd.concat(categorical_summary)\n",
        "print(categorical_summary_df)"
      ],
      "metadata": {
        "colab": {
          "base_uri": "https://localhost:8080/"
        },
        "id": "ENKUyI_MNsKD",
        "outputId": "b40fcdad-bdf7-4b6d-e802-e4bd40ba5280"
      },
      "execution_count": null,
      "outputs": [
        {
          "output_type": "stream",
          "name": "stdout",
          "text": [
            "  Category  Count  Percentage  Cumulative Percentage         Variable\n",
            "0        0   2420   57.075472              57.075472           gender\n",
            "1        1   1820   42.924528             100.000000           gender\n",
            "0      1.0   1720   40.566038              40.566038        education\n",
            "1      2.0   1253   29.551887              70.117925        education\n",
            "2      3.0    689   16.250000              86.367925        education\n",
            "3      4.0    473   11.155660              97.523585        education\n",
            "4  Missing    105    2.476415             100.000000        education\n",
            "0        0   2145   50.589623              50.589623    currentSmoker\n",
            "1        1   2095   49.410377             100.000000    currentSmoker\n",
            "0      0.0   4063   95.825472              95.825472           BPMeds\n",
            "1      1.0    124    2.924528              98.750000           BPMeds\n",
            "2  Missing     53    1.250000             100.000000           BPMeds\n",
            "0        0   4215   99.410377              99.410377  prevalentStroke\n",
            "1        1     25    0.589623             100.000000  prevalentStroke\n",
            "0        0   2923   68.938679              68.938679     prevalentHyp\n",
            "1        1   1317   31.061321             100.000000     prevalentHyp\n",
            "0        0   4131   97.429245              97.429245         diabetes\n",
            "1        1    109    2.570755             100.000000         diabetes\n"
          ]
        }
      ]
    },
    {
      "cell_type": "markdown",
      "source": [
        "**2. Data Clean**\n",
        "\n",
        "1.   Missing Values Check and Imputation\n",
        "2.   Data Preprocessing\n",
        "\n"
      ],
      "metadata": {
        "id": "EXaqEJvO6IbT"
      }
    },
    {
      "cell_type": "code",
      "source": [
        "df.isnull()\n",
        "missingValues = df.isnull().sum()\n",
        "missingValues"
      ],
      "metadata": {
        "colab": {
          "base_uri": "https://localhost:8080/",
          "height": 586
        },
        "id": "_VfHTZI66Pze",
        "outputId": "6a57d816-ebdf-421c-add4-5124f4a970d2"
      },
      "execution_count": null,
      "outputs": [
        {
          "output_type": "execute_result",
          "data": {
            "text/plain": [
              "gender               0\n",
              "age                  0\n",
              "education          105\n",
              "currentSmoker        0\n",
              "cigsPerDay          29\n",
              "BPMeds              53\n",
              "prevalentStroke      0\n",
              "prevalentHyp         0\n",
              "diabetes             0\n",
              "totChol             50\n",
              "sysBP                0\n",
              "diaBP                0\n",
              "BMI                 19\n",
              "heartRate            1\n",
              "glucose            388\n",
              "TenYearCHD           0\n",
              "dtype: int64"
            ],
            "text/html": [
              "<div>\n",
              "<style scoped>\n",
              "    .dataframe tbody tr th:only-of-type {\n",
              "        vertical-align: middle;\n",
              "    }\n",
              "\n",
              "    .dataframe tbody tr th {\n",
              "        vertical-align: top;\n",
              "    }\n",
              "\n",
              "    .dataframe thead th {\n",
              "        text-align: right;\n",
              "    }\n",
              "</style>\n",
              "<table border=\"1\" class=\"dataframe\">\n",
              "  <thead>\n",
              "    <tr style=\"text-align: right;\">\n",
              "      <th></th>\n",
              "      <th>0</th>\n",
              "    </tr>\n",
              "  </thead>\n",
              "  <tbody>\n",
              "    <tr>\n",
              "      <th>gender</th>\n",
              "      <td>0</td>\n",
              "    </tr>\n",
              "    <tr>\n",
              "      <th>age</th>\n",
              "      <td>0</td>\n",
              "    </tr>\n",
              "    <tr>\n",
              "      <th>education</th>\n",
              "      <td>105</td>\n",
              "    </tr>\n",
              "    <tr>\n",
              "      <th>currentSmoker</th>\n",
              "      <td>0</td>\n",
              "    </tr>\n",
              "    <tr>\n",
              "      <th>cigsPerDay</th>\n",
              "      <td>29</td>\n",
              "    </tr>\n",
              "    <tr>\n",
              "      <th>BPMeds</th>\n",
              "      <td>53</td>\n",
              "    </tr>\n",
              "    <tr>\n",
              "      <th>prevalentStroke</th>\n",
              "      <td>0</td>\n",
              "    </tr>\n",
              "    <tr>\n",
              "      <th>prevalentHyp</th>\n",
              "      <td>0</td>\n",
              "    </tr>\n",
              "    <tr>\n",
              "      <th>diabetes</th>\n",
              "      <td>0</td>\n",
              "    </tr>\n",
              "    <tr>\n",
              "      <th>totChol</th>\n",
              "      <td>50</td>\n",
              "    </tr>\n",
              "    <tr>\n",
              "      <th>sysBP</th>\n",
              "      <td>0</td>\n",
              "    </tr>\n",
              "    <tr>\n",
              "      <th>diaBP</th>\n",
              "      <td>0</td>\n",
              "    </tr>\n",
              "    <tr>\n",
              "      <th>BMI</th>\n",
              "      <td>19</td>\n",
              "    </tr>\n",
              "    <tr>\n",
              "      <th>heartRate</th>\n",
              "      <td>1</td>\n",
              "    </tr>\n",
              "    <tr>\n",
              "      <th>glucose</th>\n",
              "      <td>388</td>\n",
              "    </tr>\n",
              "    <tr>\n",
              "      <th>TenYearCHD</th>\n",
              "      <td>0</td>\n",
              "    </tr>\n",
              "  </tbody>\n",
              "</table>\n",
              "</div><br><label><b>dtype:</b> int64</label>"
            ]
          },
          "metadata": {},
          "execution_count": 8
        }
      ]
    },
    {
      "cell_type": "code",
      "source": [
        "# Impute missing values in 'education' with the mode (most frequent value)\n",
        "impute_mode = ['education', 'BPMeds']\n",
        "impute_median = ['cigsPerDay', 'totChol', 'BMI', 'heartRate', 'glucose']\n",
        "\n",
        "for col in impute_mode:\n",
        "    df[col].fillna(df[col].mode()[0], inplace=True)\n",
        "\n",
        "for col in impute_median:\n",
        "    df[col].fillna(df[col].median(), inplace=True)\n",
        "\n",
        "df.isnull().sum()"
      ],
      "metadata": {
        "colab": {
          "base_uri": "https://localhost:8080/",
          "height": 856
        },
        "id": "jimDLPch7A6P",
        "outputId": "cc672089-3ded-472f-f4f9-5a175fd5f7a2"
      },
      "execution_count": null,
      "outputs": [
        {
          "output_type": "stream",
          "name": "stderr",
          "text": [
            "<ipython-input-9-b557608c0666>:6: FutureWarning: A value is trying to be set on a copy of a DataFrame or Series through chained assignment using an inplace method.\n",
            "The behavior will change in pandas 3.0. This inplace method will never work because the intermediate object on which we are setting values always behaves as a copy.\n",
            "\n",
            "For example, when doing 'df[col].method(value, inplace=True)', try using 'df.method({col: value}, inplace=True)' or df[col] = df[col].method(value) instead, to perform the operation inplace on the original object.\n",
            "\n",
            "\n",
            "  df[col].fillna(df[col].mode()[0], inplace=True)\n",
            "<ipython-input-9-b557608c0666>:9: FutureWarning: A value is trying to be set on a copy of a DataFrame or Series through chained assignment using an inplace method.\n",
            "The behavior will change in pandas 3.0. This inplace method will never work because the intermediate object on which we are setting values always behaves as a copy.\n",
            "\n",
            "For example, when doing 'df[col].method(value, inplace=True)', try using 'df.method({col: value}, inplace=True)' or df[col] = df[col].method(value) instead, to perform the operation inplace on the original object.\n",
            "\n",
            "\n",
            "  df[col].fillna(df[col].median(), inplace=True)\n"
          ]
        },
        {
          "output_type": "execute_result",
          "data": {
            "text/plain": [
              "gender             0\n",
              "age                0\n",
              "education          0\n",
              "currentSmoker      0\n",
              "cigsPerDay         0\n",
              "BPMeds             0\n",
              "prevalentStroke    0\n",
              "prevalentHyp       0\n",
              "diabetes           0\n",
              "totChol            0\n",
              "sysBP              0\n",
              "diaBP              0\n",
              "BMI                0\n",
              "heartRate          0\n",
              "glucose            0\n",
              "TenYearCHD         0\n",
              "dtype: int64"
            ],
            "text/html": [
              "<div>\n",
              "<style scoped>\n",
              "    .dataframe tbody tr th:only-of-type {\n",
              "        vertical-align: middle;\n",
              "    }\n",
              "\n",
              "    .dataframe tbody tr th {\n",
              "        vertical-align: top;\n",
              "    }\n",
              "\n",
              "    .dataframe thead th {\n",
              "        text-align: right;\n",
              "    }\n",
              "</style>\n",
              "<table border=\"1\" class=\"dataframe\">\n",
              "  <thead>\n",
              "    <tr style=\"text-align: right;\">\n",
              "      <th></th>\n",
              "      <th>0</th>\n",
              "    </tr>\n",
              "  </thead>\n",
              "  <tbody>\n",
              "    <tr>\n",
              "      <th>gender</th>\n",
              "      <td>0</td>\n",
              "    </tr>\n",
              "    <tr>\n",
              "      <th>age</th>\n",
              "      <td>0</td>\n",
              "    </tr>\n",
              "    <tr>\n",
              "      <th>education</th>\n",
              "      <td>0</td>\n",
              "    </tr>\n",
              "    <tr>\n",
              "      <th>currentSmoker</th>\n",
              "      <td>0</td>\n",
              "    </tr>\n",
              "    <tr>\n",
              "      <th>cigsPerDay</th>\n",
              "      <td>0</td>\n",
              "    </tr>\n",
              "    <tr>\n",
              "      <th>BPMeds</th>\n",
              "      <td>0</td>\n",
              "    </tr>\n",
              "    <tr>\n",
              "      <th>prevalentStroke</th>\n",
              "      <td>0</td>\n",
              "    </tr>\n",
              "    <tr>\n",
              "      <th>prevalentHyp</th>\n",
              "      <td>0</td>\n",
              "    </tr>\n",
              "    <tr>\n",
              "      <th>diabetes</th>\n",
              "      <td>0</td>\n",
              "    </tr>\n",
              "    <tr>\n",
              "      <th>totChol</th>\n",
              "      <td>0</td>\n",
              "    </tr>\n",
              "    <tr>\n",
              "      <th>sysBP</th>\n",
              "      <td>0</td>\n",
              "    </tr>\n",
              "    <tr>\n",
              "      <th>diaBP</th>\n",
              "      <td>0</td>\n",
              "    </tr>\n",
              "    <tr>\n",
              "      <th>BMI</th>\n",
              "      <td>0</td>\n",
              "    </tr>\n",
              "    <tr>\n",
              "      <th>heartRate</th>\n",
              "      <td>0</td>\n",
              "    </tr>\n",
              "    <tr>\n",
              "      <th>glucose</th>\n",
              "      <td>0</td>\n",
              "    </tr>\n",
              "    <tr>\n",
              "      <th>TenYearCHD</th>\n",
              "      <td>0</td>\n",
              "    </tr>\n",
              "  </tbody>\n",
              "</table>\n",
              "</div><br><label><b>dtype:</b> int64</label>"
            ]
          },
          "metadata": {},
          "execution_count": 9
        }
      ]
    },
    {
      "cell_type": "code",
      "source": [
        "# Preprocessing\n",
        "df.duplicated().sum()\n",
        "framingham = df.drop_duplicates()\n",
        "framingham.shape"
      ],
      "metadata": {
        "colab": {
          "base_uri": "https://localhost:8080/"
        },
        "id": "8NChSsdF7I5H",
        "outputId": "99e39007-355a-4ad1-b1f2-984923afc3b9"
      },
      "execution_count": null,
      "outputs": [
        {
          "output_type": "execute_result",
          "data": {
            "text/plain": [
              "(4240, 16)"
            ]
          },
          "metadata": {},
          "execution_count": 10
        }
      ]
    },
    {
      "cell_type": "code",
      "source": [
        "df.head()"
      ],
      "metadata": {
        "colab": {
          "base_uri": "https://localhost:8080/",
          "height": 226
        },
        "id": "8DGJM6woMJYt",
        "outputId": "d7ab1d6d-3d1a-429d-8426-81b27e708a9d"
      },
      "execution_count": null,
      "outputs": [
        {
          "output_type": "execute_result",
          "data": {
            "text/plain": [
              "  gender  age education currentSmoker  cigsPerDay BPMeds prevalentStroke  \\\n",
              "0      1   39       4.0             0         0.0    0.0               0   \n",
              "1      0   46       2.0             0         0.0    0.0               0   \n",
              "2      1   48       1.0             1        20.0    0.0               0   \n",
              "3      0   61       3.0             1        30.0    0.0               0   \n",
              "4      0   46       3.0             1        23.0    0.0               0   \n",
              "\n",
              "  prevalentHyp diabetes  totChol  sysBP  diaBP    BMI  heartRate  glucose  \\\n",
              "0            0        0    195.0  106.0   70.0  26.97       80.0     77.0   \n",
              "1            0        0    250.0  121.0   81.0  28.73       95.0     76.0   \n",
              "2            0        0    245.0  127.5   80.0  25.34       75.0     70.0   \n",
              "3            1        0    225.0  150.0   95.0  28.58       65.0    103.0   \n",
              "4            0        0    285.0  130.0   84.0  23.10       85.0     85.0   \n",
              "\n",
              "  TenYearCHD  \n",
              "0          0  \n",
              "1          0  \n",
              "2          0  \n",
              "3          1  \n",
              "4          0  "
            ],
            "text/html": [
              "\n",
              "  <div id=\"df-c35a8fb2-fcb0-4a26-aed1-8feb10203a1a\" class=\"colab-df-container\">\n",
              "    <div>\n",
              "<style scoped>\n",
              "    .dataframe tbody tr th:only-of-type {\n",
              "        vertical-align: middle;\n",
              "    }\n",
              "\n",
              "    .dataframe tbody tr th {\n",
              "        vertical-align: top;\n",
              "    }\n",
              "\n",
              "    .dataframe thead th {\n",
              "        text-align: right;\n",
              "    }\n",
              "</style>\n",
              "<table border=\"1\" class=\"dataframe\">\n",
              "  <thead>\n",
              "    <tr style=\"text-align: right;\">\n",
              "      <th></th>\n",
              "      <th>gender</th>\n",
              "      <th>age</th>\n",
              "      <th>education</th>\n",
              "      <th>currentSmoker</th>\n",
              "      <th>cigsPerDay</th>\n",
              "      <th>BPMeds</th>\n",
              "      <th>prevalentStroke</th>\n",
              "      <th>prevalentHyp</th>\n",
              "      <th>diabetes</th>\n",
              "      <th>totChol</th>\n",
              "      <th>sysBP</th>\n",
              "      <th>diaBP</th>\n",
              "      <th>BMI</th>\n",
              "      <th>heartRate</th>\n",
              "      <th>glucose</th>\n",
              "      <th>TenYearCHD</th>\n",
              "    </tr>\n",
              "  </thead>\n",
              "  <tbody>\n",
              "    <tr>\n",
              "      <th>0</th>\n",
              "      <td>1</td>\n",
              "      <td>39</td>\n",
              "      <td>4.0</td>\n",
              "      <td>0</td>\n",
              "      <td>0.0</td>\n",
              "      <td>0.0</td>\n",
              "      <td>0</td>\n",
              "      <td>0</td>\n",
              "      <td>0</td>\n",
              "      <td>195.0</td>\n",
              "      <td>106.0</td>\n",
              "      <td>70.0</td>\n",
              "      <td>26.97</td>\n",
              "      <td>80.0</td>\n",
              "      <td>77.0</td>\n",
              "      <td>0</td>\n",
              "    </tr>\n",
              "    <tr>\n",
              "      <th>1</th>\n",
              "      <td>0</td>\n",
              "      <td>46</td>\n",
              "      <td>2.0</td>\n",
              "      <td>0</td>\n",
              "      <td>0.0</td>\n",
              "      <td>0.0</td>\n",
              "      <td>0</td>\n",
              "      <td>0</td>\n",
              "      <td>0</td>\n",
              "      <td>250.0</td>\n",
              "      <td>121.0</td>\n",
              "      <td>81.0</td>\n",
              "      <td>28.73</td>\n",
              "      <td>95.0</td>\n",
              "      <td>76.0</td>\n",
              "      <td>0</td>\n",
              "    </tr>\n",
              "    <tr>\n",
              "      <th>2</th>\n",
              "      <td>1</td>\n",
              "      <td>48</td>\n",
              "      <td>1.0</td>\n",
              "      <td>1</td>\n",
              "      <td>20.0</td>\n",
              "      <td>0.0</td>\n",
              "      <td>0</td>\n",
              "      <td>0</td>\n",
              "      <td>0</td>\n",
              "      <td>245.0</td>\n",
              "      <td>127.5</td>\n",
              "      <td>80.0</td>\n",
              "      <td>25.34</td>\n",
              "      <td>75.0</td>\n",
              "      <td>70.0</td>\n",
              "      <td>0</td>\n",
              "    </tr>\n",
              "    <tr>\n",
              "      <th>3</th>\n",
              "      <td>0</td>\n",
              "      <td>61</td>\n",
              "      <td>3.0</td>\n",
              "      <td>1</td>\n",
              "      <td>30.0</td>\n",
              "      <td>0.0</td>\n",
              "      <td>0</td>\n",
              "      <td>1</td>\n",
              "      <td>0</td>\n",
              "      <td>225.0</td>\n",
              "      <td>150.0</td>\n",
              "      <td>95.0</td>\n",
              "      <td>28.58</td>\n",
              "      <td>65.0</td>\n",
              "      <td>103.0</td>\n",
              "      <td>1</td>\n",
              "    </tr>\n",
              "    <tr>\n",
              "      <th>4</th>\n",
              "      <td>0</td>\n",
              "      <td>46</td>\n",
              "      <td>3.0</td>\n",
              "      <td>1</td>\n",
              "      <td>23.0</td>\n",
              "      <td>0.0</td>\n",
              "      <td>0</td>\n",
              "      <td>0</td>\n",
              "      <td>0</td>\n",
              "      <td>285.0</td>\n",
              "      <td>130.0</td>\n",
              "      <td>84.0</td>\n",
              "      <td>23.10</td>\n",
              "      <td>85.0</td>\n",
              "      <td>85.0</td>\n",
              "      <td>0</td>\n",
              "    </tr>\n",
              "  </tbody>\n",
              "</table>\n",
              "</div>\n",
              "    <div class=\"colab-df-buttons\">\n",
              "\n",
              "  <div class=\"colab-df-container\">\n",
              "    <button class=\"colab-df-convert\" onclick=\"convertToInteractive('df-c35a8fb2-fcb0-4a26-aed1-8feb10203a1a')\"\n",
              "            title=\"Convert this dataframe to an interactive table.\"\n",
              "            style=\"display:none;\">\n",
              "\n",
              "  <svg xmlns=\"http://www.w3.org/2000/svg\" height=\"24px\" viewBox=\"0 -960 960 960\">\n",
              "    <path d=\"M120-120v-720h720v720H120Zm60-500h600v-160H180v160Zm220 220h160v-160H400v160Zm0 220h160v-160H400v160ZM180-400h160v-160H180v160Zm440 0h160v-160H620v160ZM180-180h160v-160H180v160Zm440 0h160v-160H620v160Z\"/>\n",
              "  </svg>\n",
              "    </button>\n",
              "\n",
              "  <style>\n",
              "    .colab-df-container {\n",
              "      display:flex;\n",
              "      gap: 12px;\n",
              "    }\n",
              "\n",
              "    .colab-df-convert {\n",
              "      background-color: #E8F0FE;\n",
              "      border: none;\n",
              "      border-radius: 50%;\n",
              "      cursor: pointer;\n",
              "      display: none;\n",
              "      fill: #1967D2;\n",
              "      height: 32px;\n",
              "      padding: 0 0 0 0;\n",
              "      width: 32px;\n",
              "    }\n",
              "\n",
              "    .colab-df-convert:hover {\n",
              "      background-color: #E2EBFA;\n",
              "      box-shadow: 0px 1px 2px rgba(60, 64, 67, 0.3), 0px 1px 3px 1px rgba(60, 64, 67, 0.15);\n",
              "      fill: #174EA6;\n",
              "    }\n",
              "\n",
              "    .colab-df-buttons div {\n",
              "      margin-bottom: 4px;\n",
              "    }\n",
              "\n",
              "    [theme=dark] .colab-df-convert {\n",
              "      background-color: #3B4455;\n",
              "      fill: #D2E3FC;\n",
              "    }\n",
              "\n",
              "    [theme=dark] .colab-df-convert:hover {\n",
              "      background-color: #434B5C;\n",
              "      box-shadow: 0px 1px 3px 1px rgba(0, 0, 0, 0.15);\n",
              "      filter: drop-shadow(0px 1px 2px rgba(0, 0, 0, 0.3));\n",
              "      fill: #FFFFFF;\n",
              "    }\n",
              "  </style>\n",
              "\n",
              "    <script>\n",
              "      const buttonEl =\n",
              "        document.querySelector('#df-c35a8fb2-fcb0-4a26-aed1-8feb10203a1a button.colab-df-convert');\n",
              "      buttonEl.style.display =\n",
              "        google.colab.kernel.accessAllowed ? 'block' : 'none';\n",
              "\n",
              "      async function convertToInteractive(key) {\n",
              "        const element = document.querySelector('#df-c35a8fb2-fcb0-4a26-aed1-8feb10203a1a');\n",
              "        const dataTable =\n",
              "          await google.colab.kernel.invokeFunction('convertToInteractive',\n",
              "                                                    [key], {});\n",
              "        if (!dataTable) return;\n",
              "\n",
              "        const docLinkHtml = 'Like what you see? Visit the ' +\n",
              "          '<a target=\"_blank\" href=https://colab.research.google.com/notebooks/data_table.ipynb>data table notebook</a>'\n",
              "          + ' to learn more about interactive tables.';\n",
              "        element.innerHTML = '';\n",
              "        dataTable['output_type'] = 'display_data';\n",
              "        await google.colab.output.renderOutput(dataTable, element);\n",
              "        const docLink = document.createElement('div');\n",
              "        docLink.innerHTML = docLinkHtml;\n",
              "        element.appendChild(docLink);\n",
              "      }\n",
              "    </script>\n",
              "  </div>\n",
              "\n",
              "\n",
              "    <div id=\"df-77c2481c-71a0-456b-8cd0-efd0d60606a4\">\n",
              "      <button class=\"colab-df-quickchart\" onclick=\"quickchart('df-77c2481c-71a0-456b-8cd0-efd0d60606a4')\"\n",
              "                title=\"Suggest charts\"\n",
              "                style=\"display:none;\">\n",
              "\n",
              "<svg xmlns=\"http://www.w3.org/2000/svg\" height=\"24px\"viewBox=\"0 0 24 24\"\n",
              "     width=\"24px\">\n",
              "    <g>\n",
              "        <path d=\"M19 3H5c-1.1 0-2 .9-2 2v14c0 1.1.9 2 2 2h14c1.1 0 2-.9 2-2V5c0-1.1-.9-2-2-2zM9 17H7v-7h2v7zm4 0h-2V7h2v10zm4 0h-2v-4h2v4z\"/>\n",
              "    </g>\n",
              "</svg>\n",
              "      </button>\n",
              "\n",
              "<style>\n",
              "  .colab-df-quickchart {\n",
              "      --bg-color: #E8F0FE;\n",
              "      --fill-color: #1967D2;\n",
              "      --hover-bg-color: #E2EBFA;\n",
              "      --hover-fill-color: #174EA6;\n",
              "      --disabled-fill-color: #AAA;\n",
              "      --disabled-bg-color: #DDD;\n",
              "  }\n",
              "\n",
              "  [theme=dark] .colab-df-quickchart {\n",
              "      --bg-color: #3B4455;\n",
              "      --fill-color: #D2E3FC;\n",
              "      --hover-bg-color: #434B5C;\n",
              "      --hover-fill-color: #FFFFFF;\n",
              "      --disabled-bg-color: #3B4455;\n",
              "      --disabled-fill-color: #666;\n",
              "  }\n",
              "\n",
              "  .colab-df-quickchart {\n",
              "    background-color: var(--bg-color);\n",
              "    border: none;\n",
              "    border-radius: 50%;\n",
              "    cursor: pointer;\n",
              "    display: none;\n",
              "    fill: var(--fill-color);\n",
              "    height: 32px;\n",
              "    padding: 0;\n",
              "    width: 32px;\n",
              "  }\n",
              "\n",
              "  .colab-df-quickchart:hover {\n",
              "    background-color: var(--hover-bg-color);\n",
              "    box-shadow: 0 1px 2px rgba(60, 64, 67, 0.3), 0 1px 3px 1px rgba(60, 64, 67, 0.15);\n",
              "    fill: var(--button-hover-fill-color);\n",
              "  }\n",
              "\n",
              "  .colab-df-quickchart-complete:disabled,\n",
              "  .colab-df-quickchart-complete:disabled:hover {\n",
              "    background-color: var(--disabled-bg-color);\n",
              "    fill: var(--disabled-fill-color);\n",
              "    box-shadow: none;\n",
              "  }\n",
              "\n",
              "  .colab-df-spinner {\n",
              "    border: 2px solid var(--fill-color);\n",
              "    border-color: transparent;\n",
              "    border-bottom-color: var(--fill-color);\n",
              "    animation:\n",
              "      spin 1s steps(1) infinite;\n",
              "  }\n",
              "\n",
              "  @keyframes spin {\n",
              "    0% {\n",
              "      border-color: transparent;\n",
              "      border-bottom-color: var(--fill-color);\n",
              "      border-left-color: var(--fill-color);\n",
              "    }\n",
              "    20% {\n",
              "      border-color: transparent;\n",
              "      border-left-color: var(--fill-color);\n",
              "      border-top-color: var(--fill-color);\n",
              "    }\n",
              "    30% {\n",
              "      border-color: transparent;\n",
              "      border-left-color: var(--fill-color);\n",
              "      border-top-color: var(--fill-color);\n",
              "      border-right-color: var(--fill-color);\n",
              "    }\n",
              "    40% {\n",
              "      border-color: transparent;\n",
              "      border-right-color: var(--fill-color);\n",
              "      border-top-color: var(--fill-color);\n",
              "    }\n",
              "    60% {\n",
              "      border-color: transparent;\n",
              "      border-right-color: var(--fill-color);\n",
              "    }\n",
              "    80% {\n",
              "      border-color: transparent;\n",
              "      border-right-color: var(--fill-color);\n",
              "      border-bottom-color: var(--fill-color);\n",
              "    }\n",
              "    90% {\n",
              "      border-color: transparent;\n",
              "      border-bottom-color: var(--fill-color);\n",
              "    }\n",
              "  }\n",
              "</style>\n",
              "\n",
              "      <script>\n",
              "        async function quickchart(key) {\n",
              "          const quickchartButtonEl =\n",
              "            document.querySelector('#' + key + ' button');\n",
              "          quickchartButtonEl.disabled = true;  // To prevent multiple clicks.\n",
              "          quickchartButtonEl.classList.add('colab-df-spinner');\n",
              "          try {\n",
              "            const charts = await google.colab.kernel.invokeFunction(\n",
              "                'suggestCharts', [key], {});\n",
              "          } catch (error) {\n",
              "            console.error('Error during call to suggestCharts:', error);\n",
              "          }\n",
              "          quickchartButtonEl.classList.remove('colab-df-spinner');\n",
              "          quickchartButtonEl.classList.add('colab-df-quickchart-complete');\n",
              "        }\n",
              "        (() => {\n",
              "          let quickchartButtonEl =\n",
              "            document.querySelector('#df-77c2481c-71a0-456b-8cd0-efd0d60606a4 button');\n",
              "          quickchartButtonEl.style.display =\n",
              "            google.colab.kernel.accessAllowed ? 'block' : 'none';\n",
              "        })();\n",
              "      </script>\n",
              "    </div>\n",
              "\n",
              "    </div>\n",
              "  </div>\n"
            ],
            "application/vnd.google.colaboratory.intrinsic+json": {
              "type": "dataframe",
              "variable_name": "df",
              "summary": "{\n  \"name\": \"df\",\n  \"rows\": 4240,\n  \"fields\": [\n    {\n      \"column\": \"gender\",\n      \"properties\": {\n        \"dtype\": \"category\",\n        \"num_unique_values\": 2,\n        \"samples\": [\n          0,\n          1\n        ],\n        \"semantic_type\": \"\",\n        \"description\": \"\"\n      }\n    },\n    {\n      \"column\": \"age\",\n      \"properties\": {\n        \"dtype\": \"number\",\n        \"std\": 8,\n        \"min\": 32,\n        \"max\": 70,\n        \"num_unique_values\": 39,\n        \"samples\": [\n          34,\n          70\n        ],\n        \"semantic_type\": \"\",\n        \"description\": \"\"\n      }\n    },\n    {\n      \"column\": \"education\",\n      \"properties\": {\n        \"dtype\": \"category\",\n        \"num_unique_values\": 4,\n        \"samples\": [\n          2.0,\n          3.0\n        ],\n        \"semantic_type\": \"\",\n        \"description\": \"\"\n      }\n    },\n    {\n      \"column\": \"currentSmoker\",\n      \"properties\": {\n        \"dtype\": \"category\",\n        \"num_unique_values\": 2,\n        \"samples\": [\n          1,\n          0\n        ],\n        \"semantic_type\": \"\",\n        \"description\": \"\"\n      }\n    },\n    {\n      \"column\": \"cigsPerDay\",\n      \"properties\": {\n        \"dtype\": \"number\",\n        \"std\": 11.90477734169414,\n        \"min\": 0.0,\n        \"max\": 70.0,\n        \"num_unique_values\": 33,\n        \"samples\": [\n          19.0,\n          4.0\n        ],\n        \"semantic_type\": \"\",\n        \"description\": \"\"\n      }\n    },\n    {\n      \"column\": \"BPMeds\",\n      \"properties\": {\n        \"dtype\": \"category\",\n        \"num_unique_values\": 2,\n        \"samples\": [\n          1.0,\n          0.0\n        ],\n        \"semantic_type\": \"\",\n        \"description\": \"\"\n      }\n    },\n    {\n      \"column\": \"prevalentStroke\",\n      \"properties\": {\n        \"dtype\": \"category\",\n        \"num_unique_values\": 2,\n        \"samples\": [\n          1,\n          0\n        ],\n        \"semantic_type\": \"\",\n        \"description\": \"\"\n      }\n    },\n    {\n      \"column\": \"prevalentHyp\",\n      \"properties\": {\n        \"dtype\": \"category\",\n        \"num_unique_values\": 2,\n        \"samples\": [\n          1,\n          0\n        ],\n        \"semantic_type\": \"\",\n        \"description\": \"\"\n      }\n    },\n    {\n      \"column\": \"diabetes\",\n      \"properties\": {\n        \"dtype\": \"category\",\n        \"num_unique_values\": 2,\n        \"samples\": [\n          1,\n          0\n        ],\n        \"semantic_type\": \"\",\n        \"description\": \"\"\n      }\n    },\n    {\n      \"column\": \"totChol\",\n      \"properties\": {\n        \"dtype\": \"number\",\n        \"std\": 44.32847956803451,\n        \"min\": 107.0,\n        \"max\": 696.0,\n        \"num_unique_values\": 248,\n        \"samples\": [\n          311.0,\n          205.0\n        ],\n        \"semantic_type\": \"\",\n        \"description\": \"\"\n      }\n    },\n    {\n      \"column\": \"sysBP\",\n      \"properties\": {\n        \"dtype\": \"number\",\n        \"std\": 22.0332996088492,\n        \"min\": 83.5,\n        \"max\": 295.0,\n        \"num_unique_values\": 234,\n        \"samples\": [\n          109.0,\n          184.5\n        ],\n        \"semantic_type\": \"\",\n        \"description\": \"\"\n      }\n    },\n    {\n      \"column\": \"diaBP\",\n      \"properties\": {\n        \"dtype\": \"number\",\n        \"std\": 11.910394483305936,\n        \"min\": 48.0,\n        \"max\": 142.5,\n        \"num_unique_values\": 146,\n        \"samples\": [\n          106.0,\n          108.5\n        ],\n        \"semantic_type\": \"\",\n        \"description\": \"\"\n      }\n    },\n    {\n      \"column\": \"BMI\",\n      \"properties\": {\n        \"dtype\": \"number\",\n        \"std\": 4.070774635557685,\n        \"min\": 15.54,\n        \"max\": 56.8,\n        \"num_unique_values\": 1364,\n        \"samples\": [\n          20.57,\n          19.87\n        ],\n        \"semantic_type\": \"\",\n        \"description\": \"\"\n      }\n    },\n    {\n      \"column\": \"heartRate\",\n      \"properties\": {\n        \"dtype\": \"number\",\n        \"std\": 12.023937060119858,\n        \"min\": 44.0,\n        \"max\": 143.0,\n        \"num_unique_values\": 73,\n        \"samples\": [\n          85.0,\n          47.0\n        ],\n        \"semantic_type\": \"\",\n        \"description\": \"\"\n      }\n    },\n    {\n      \"column\": \"glucose\",\n      \"properties\": {\n        \"dtype\": \"number\",\n        \"std\": 22.860339880961636,\n        \"min\": 40.0,\n        \"max\": 394.0,\n        \"num_unique_values\": 143,\n        \"samples\": [\n          394.0,\n          74.0\n        ],\n        \"semantic_type\": \"\",\n        \"description\": \"\"\n      }\n    },\n    {\n      \"column\": \"TenYearCHD\",\n      \"properties\": {\n        \"dtype\": \"category\",\n        \"num_unique_values\": 2,\n        \"samples\": [\n          1,\n          0\n        ],\n        \"semantic_type\": \"\",\n        \"description\": \"\"\n      }\n    }\n  ]\n}"
            }
          },
          "metadata": {},
          "execution_count": 11
        }
      ]
    },
    {
      "cell_type": "code",
      "source": [
        "import matplotlib.pyplot as plt\n",
        "from statsmodels.stats.outliers_influence import variance_inflation_factor\n",
        "from imblearn.over_sampling import SMOTE\n",
        "from sklearn.utils import resample\n",
        "from sklearn.model_selection import train_test_split\n",
        "from sklearn.feature_selection import RFE\n",
        "from sklearn.metrics import accuracy_score, precision_score, recall_score, f1_score, confusion_matrix\n",
        "\n",
        "from sklearn.model_selection import GridSearchCV\n",
        "from sklearn.linear_model import LogisticRegression\n",
        "from sklearn.preprocessing import StandardScaler\n",
        "from sklearn.inspection import permutation_importance\n",
        "from sklearn.neighbors import KNeighborsClassifier\n",
        "from sklearn.ensemble import RandomForestClassifier\n",
        "from sklearn.tree import DecisionTreeClassifier\n",
        "\n",
        "from collections import Counter\n",
        "import statsmodels.api as sm"
      ],
      "metadata": {
        "id": "ylZi40hAifXr"
      },
      "execution_count": null,
      "outputs": []
    },
    {
      "cell_type": "markdown",
      "source": [
        "**Machine Learning**\n",
        "\n",
        "    Data Clean and Processing for Modeling\n",
        "\n",
        "1.   Logistic Regression Model\n",
        "2.   KNeighbour Classifier\n",
        "3.   DecisionTree Classifier\n",
        "4.   RandomForest Classifier\n",
        "\n"
      ],
      "metadata": {
        "id": "htMDkzoX8sLg"
      }
    },
    {
      "cell_type": "code",
      "source": [
        "# Modeling Target Variable: TenYearCHD\n",
        "# Convert categorical columns to object dtype before get_dummies\n",
        "df[categorical_columns] = df[categorical_columns].astype('object')\n",
        "df_encoded = pd.get_dummies(df, columns=categorical_columns, drop_first=True)\n",
        "\n",
        "# Fill any potential NaNs introduced by get_dummies before converting to int\n",
        "df_encoded = df_encoded.fillna(0).astype(int)\n",
        "df_encoded.head()"
      ],
      "metadata": {
        "colab": {
          "base_uri": "https://localhost:8080/",
          "height": 226
        },
        "id": "I_P0s7cxiV5_",
        "outputId": "e41cb813-29eb-43b3-e685-a9438c640d1a"
      },
      "execution_count": null,
      "outputs": [
        {
          "output_type": "execute_result",
          "data": {
            "text/plain": [
              "   age  cigsPerDay  totChol  sysBP  diaBP  BMI  heartRate  glucose  \\\n",
              "0   39           0      195    106     70   26         80       77   \n",
              "1   46           0      250    121     81   28         95       76   \n",
              "2   48          20      245    127     80   25         75       70   \n",
              "3   61          30      225    150     95   28         65      103   \n",
              "4   46          23      285    130     84   23         85       85   \n",
              "\n",
              "   TenYearCHD  gender_1  education_2.0  education_3.0  education_4.0  \\\n",
              "0           0         1              0              0              1   \n",
              "1           0         0              1              0              0   \n",
              "2           0         1              0              0              0   \n",
              "3           1         0              0              1              0   \n",
              "4           0         0              0              1              0   \n",
              "\n",
              "   currentSmoker_1  BPMeds_1.0  prevalentStroke_1  prevalentHyp_1  diabetes_1  \n",
              "0                0           0                  0               0           0  \n",
              "1                0           0                  0               0           0  \n",
              "2                1           0                  0               0           0  \n",
              "3                1           0                  0               1           0  \n",
              "4                1           0                  0               0           0  "
            ],
            "text/html": [
              "\n",
              "  <div id=\"df-f4898f70-c0c5-4d7c-b27f-e4c3fffd3ebd\" class=\"colab-df-container\">\n",
              "    <div>\n",
              "<style scoped>\n",
              "    .dataframe tbody tr th:only-of-type {\n",
              "        vertical-align: middle;\n",
              "    }\n",
              "\n",
              "    .dataframe tbody tr th {\n",
              "        vertical-align: top;\n",
              "    }\n",
              "\n",
              "    .dataframe thead th {\n",
              "        text-align: right;\n",
              "    }\n",
              "</style>\n",
              "<table border=\"1\" class=\"dataframe\">\n",
              "  <thead>\n",
              "    <tr style=\"text-align: right;\">\n",
              "      <th></th>\n",
              "      <th>age</th>\n",
              "      <th>cigsPerDay</th>\n",
              "      <th>totChol</th>\n",
              "      <th>sysBP</th>\n",
              "      <th>diaBP</th>\n",
              "      <th>BMI</th>\n",
              "      <th>heartRate</th>\n",
              "      <th>glucose</th>\n",
              "      <th>TenYearCHD</th>\n",
              "      <th>gender_1</th>\n",
              "      <th>education_2.0</th>\n",
              "      <th>education_3.0</th>\n",
              "      <th>education_4.0</th>\n",
              "      <th>currentSmoker_1</th>\n",
              "      <th>BPMeds_1.0</th>\n",
              "      <th>prevalentStroke_1</th>\n",
              "      <th>prevalentHyp_1</th>\n",
              "      <th>diabetes_1</th>\n",
              "    </tr>\n",
              "  </thead>\n",
              "  <tbody>\n",
              "    <tr>\n",
              "      <th>0</th>\n",
              "      <td>39</td>\n",
              "      <td>0</td>\n",
              "      <td>195</td>\n",
              "      <td>106</td>\n",
              "      <td>70</td>\n",
              "      <td>26</td>\n",
              "      <td>80</td>\n",
              "      <td>77</td>\n",
              "      <td>0</td>\n",
              "      <td>1</td>\n",
              "      <td>0</td>\n",
              "      <td>0</td>\n",
              "      <td>1</td>\n",
              "      <td>0</td>\n",
              "      <td>0</td>\n",
              "      <td>0</td>\n",
              "      <td>0</td>\n",
              "      <td>0</td>\n",
              "    </tr>\n",
              "    <tr>\n",
              "      <th>1</th>\n",
              "      <td>46</td>\n",
              "      <td>0</td>\n",
              "      <td>250</td>\n",
              "      <td>121</td>\n",
              "      <td>81</td>\n",
              "      <td>28</td>\n",
              "      <td>95</td>\n",
              "      <td>76</td>\n",
              "      <td>0</td>\n",
              "      <td>0</td>\n",
              "      <td>1</td>\n",
              "      <td>0</td>\n",
              "      <td>0</td>\n",
              "      <td>0</td>\n",
              "      <td>0</td>\n",
              "      <td>0</td>\n",
              "      <td>0</td>\n",
              "      <td>0</td>\n",
              "    </tr>\n",
              "    <tr>\n",
              "      <th>2</th>\n",
              "      <td>48</td>\n",
              "      <td>20</td>\n",
              "      <td>245</td>\n",
              "      <td>127</td>\n",
              "      <td>80</td>\n",
              "      <td>25</td>\n",
              "      <td>75</td>\n",
              "      <td>70</td>\n",
              "      <td>0</td>\n",
              "      <td>1</td>\n",
              "      <td>0</td>\n",
              "      <td>0</td>\n",
              "      <td>0</td>\n",
              "      <td>1</td>\n",
              "      <td>0</td>\n",
              "      <td>0</td>\n",
              "      <td>0</td>\n",
              "      <td>0</td>\n",
              "    </tr>\n",
              "    <tr>\n",
              "      <th>3</th>\n",
              "      <td>61</td>\n",
              "      <td>30</td>\n",
              "      <td>225</td>\n",
              "      <td>150</td>\n",
              "      <td>95</td>\n",
              "      <td>28</td>\n",
              "      <td>65</td>\n",
              "      <td>103</td>\n",
              "      <td>1</td>\n",
              "      <td>0</td>\n",
              "      <td>0</td>\n",
              "      <td>1</td>\n",
              "      <td>0</td>\n",
              "      <td>1</td>\n",
              "      <td>0</td>\n",
              "      <td>0</td>\n",
              "      <td>1</td>\n",
              "      <td>0</td>\n",
              "    </tr>\n",
              "    <tr>\n",
              "      <th>4</th>\n",
              "      <td>46</td>\n",
              "      <td>23</td>\n",
              "      <td>285</td>\n",
              "      <td>130</td>\n",
              "      <td>84</td>\n",
              "      <td>23</td>\n",
              "      <td>85</td>\n",
              "      <td>85</td>\n",
              "      <td>0</td>\n",
              "      <td>0</td>\n",
              "      <td>0</td>\n",
              "      <td>1</td>\n",
              "      <td>0</td>\n",
              "      <td>1</td>\n",
              "      <td>0</td>\n",
              "      <td>0</td>\n",
              "      <td>0</td>\n",
              "      <td>0</td>\n",
              "    </tr>\n",
              "  </tbody>\n",
              "</table>\n",
              "</div>\n",
              "    <div class=\"colab-df-buttons\">\n",
              "\n",
              "  <div class=\"colab-df-container\">\n",
              "    <button class=\"colab-df-convert\" onclick=\"convertToInteractive('df-f4898f70-c0c5-4d7c-b27f-e4c3fffd3ebd')\"\n",
              "            title=\"Convert this dataframe to an interactive table.\"\n",
              "            style=\"display:none;\">\n",
              "\n",
              "  <svg xmlns=\"http://www.w3.org/2000/svg\" height=\"24px\" viewBox=\"0 -960 960 960\">\n",
              "    <path d=\"M120-120v-720h720v720H120Zm60-500h600v-160H180v160Zm220 220h160v-160H400v160Zm0 220h160v-160H400v160ZM180-400h160v-160H180v160Zm440 0h160v-160H620v160ZM180-180h160v-160H180v160Zm440 0h160v-160H620v160Z\"/>\n",
              "  </svg>\n",
              "    </button>\n",
              "\n",
              "  <style>\n",
              "    .colab-df-container {\n",
              "      display:flex;\n",
              "      gap: 12px;\n",
              "    }\n",
              "\n",
              "    .colab-df-convert {\n",
              "      background-color: #E8F0FE;\n",
              "      border: none;\n",
              "      border-radius: 50%;\n",
              "      cursor: pointer;\n",
              "      display: none;\n",
              "      fill: #1967D2;\n",
              "      height: 32px;\n",
              "      padding: 0 0 0 0;\n",
              "      width: 32px;\n",
              "    }\n",
              "\n",
              "    .colab-df-convert:hover {\n",
              "      background-color: #E2EBFA;\n",
              "      box-shadow: 0px 1px 2px rgba(60, 64, 67, 0.3), 0px 1px 3px 1px rgba(60, 64, 67, 0.15);\n",
              "      fill: #174EA6;\n",
              "    }\n",
              "\n",
              "    .colab-df-buttons div {\n",
              "      margin-bottom: 4px;\n",
              "    }\n",
              "\n",
              "    [theme=dark] .colab-df-convert {\n",
              "      background-color: #3B4455;\n",
              "      fill: #D2E3FC;\n",
              "    }\n",
              "\n",
              "    [theme=dark] .colab-df-convert:hover {\n",
              "      background-color: #434B5C;\n",
              "      box-shadow: 0px 1px 3px 1px rgba(0, 0, 0, 0.15);\n",
              "      filter: drop-shadow(0px 1px 2px rgba(0, 0, 0, 0.3));\n",
              "      fill: #FFFFFF;\n",
              "    }\n",
              "  </style>\n",
              "\n",
              "    <script>\n",
              "      const buttonEl =\n",
              "        document.querySelector('#df-f4898f70-c0c5-4d7c-b27f-e4c3fffd3ebd button.colab-df-convert');\n",
              "      buttonEl.style.display =\n",
              "        google.colab.kernel.accessAllowed ? 'block' : 'none';\n",
              "\n",
              "      async function convertToInteractive(key) {\n",
              "        const element = document.querySelector('#df-f4898f70-c0c5-4d7c-b27f-e4c3fffd3ebd');\n",
              "        const dataTable =\n",
              "          await google.colab.kernel.invokeFunction('convertToInteractive',\n",
              "                                                    [key], {});\n",
              "        if (!dataTable) return;\n",
              "\n",
              "        const docLinkHtml = 'Like what you see? Visit the ' +\n",
              "          '<a target=\"_blank\" href=https://colab.research.google.com/notebooks/data_table.ipynb>data table notebook</a>'\n",
              "          + ' to learn more about interactive tables.';\n",
              "        element.innerHTML = '';\n",
              "        dataTable['output_type'] = 'display_data';\n",
              "        await google.colab.output.renderOutput(dataTable, element);\n",
              "        const docLink = document.createElement('div');\n",
              "        docLink.innerHTML = docLinkHtml;\n",
              "        element.appendChild(docLink);\n",
              "      }\n",
              "    </script>\n",
              "  </div>\n",
              "\n",
              "\n",
              "    <div id=\"df-352873d2-49bd-402e-b12b-1aedb611b35f\">\n",
              "      <button class=\"colab-df-quickchart\" onclick=\"quickchart('df-352873d2-49bd-402e-b12b-1aedb611b35f')\"\n",
              "                title=\"Suggest charts\"\n",
              "                style=\"display:none;\">\n",
              "\n",
              "<svg xmlns=\"http://www.w3.org/2000/svg\" height=\"24px\"viewBox=\"0 0 24 24\"\n",
              "     width=\"24px\">\n",
              "    <g>\n",
              "        <path d=\"M19 3H5c-1.1 0-2 .9-2 2v14c0 1.1.9 2 2 2h14c1.1 0 2-.9 2-2V5c0-1.1-.9-2-2-2zM9 17H7v-7h2v7zm4 0h-2V7h2v10zm4 0h-2v-4h2v4z\"/>\n",
              "    </g>\n",
              "</svg>\n",
              "      </button>\n",
              "\n",
              "<style>\n",
              "  .colab-df-quickchart {\n",
              "      --bg-color: #E8F0FE;\n",
              "      --fill-color: #1967D2;\n",
              "      --hover-bg-color: #E2EBFA;\n",
              "      --hover-fill-color: #174EA6;\n",
              "      --disabled-fill-color: #AAA;\n",
              "      --disabled-bg-color: #DDD;\n",
              "  }\n",
              "\n",
              "  [theme=dark] .colab-df-quickchart {\n",
              "      --bg-color: #3B4455;\n",
              "      --fill-color: #D2E3FC;\n",
              "      --hover-bg-color: #434B5C;\n",
              "      --hover-fill-color: #FFFFFF;\n",
              "      --disabled-bg-color: #3B4455;\n",
              "      --disabled-fill-color: #666;\n",
              "  }\n",
              "\n",
              "  .colab-df-quickchart {\n",
              "    background-color: var(--bg-color);\n",
              "    border: none;\n",
              "    border-radius: 50%;\n",
              "    cursor: pointer;\n",
              "    display: none;\n",
              "    fill: var(--fill-color);\n",
              "    height: 32px;\n",
              "    padding: 0;\n",
              "    width: 32px;\n",
              "  }\n",
              "\n",
              "  .colab-df-quickchart:hover {\n",
              "    background-color: var(--hover-bg-color);\n",
              "    box-shadow: 0 1px 2px rgba(60, 64, 67, 0.3), 0 1px 3px 1px rgba(60, 64, 67, 0.15);\n",
              "    fill: var(--button-hover-fill-color);\n",
              "  }\n",
              "\n",
              "  .colab-df-quickchart-complete:disabled,\n",
              "  .colab-df-quickchart-complete:disabled:hover {\n",
              "    background-color: var(--disabled-bg-color);\n",
              "    fill: var(--disabled-fill-color);\n",
              "    box-shadow: none;\n",
              "  }\n",
              "\n",
              "  .colab-df-spinner {\n",
              "    border: 2px solid var(--fill-color);\n",
              "    border-color: transparent;\n",
              "    border-bottom-color: var(--fill-color);\n",
              "    animation:\n",
              "      spin 1s steps(1) infinite;\n",
              "  }\n",
              "\n",
              "  @keyframes spin {\n",
              "    0% {\n",
              "      border-color: transparent;\n",
              "      border-bottom-color: var(--fill-color);\n",
              "      border-left-color: var(--fill-color);\n",
              "    }\n",
              "    20% {\n",
              "      border-color: transparent;\n",
              "      border-left-color: var(--fill-color);\n",
              "      border-top-color: var(--fill-color);\n",
              "    }\n",
              "    30% {\n",
              "      border-color: transparent;\n",
              "      border-left-color: var(--fill-color);\n",
              "      border-top-color: var(--fill-color);\n",
              "      border-right-color: var(--fill-color);\n",
              "    }\n",
              "    40% {\n",
              "      border-color: transparent;\n",
              "      border-right-color: var(--fill-color);\n",
              "      border-top-color: var(--fill-color);\n",
              "    }\n",
              "    60% {\n",
              "      border-color: transparent;\n",
              "      border-right-color: var(--fill-color);\n",
              "    }\n",
              "    80% {\n",
              "      border-color: transparent;\n",
              "      border-right-color: var(--fill-color);\n",
              "      border-bottom-color: var(--fill-color);\n",
              "    }\n",
              "    90% {\n",
              "      border-color: transparent;\n",
              "      border-bottom-color: var(--fill-color);\n",
              "    }\n",
              "  }\n",
              "</style>\n",
              "\n",
              "      <script>\n",
              "        async function quickchart(key) {\n",
              "          const quickchartButtonEl =\n",
              "            document.querySelector('#' + key + ' button');\n",
              "          quickchartButtonEl.disabled = true;  // To prevent multiple clicks.\n",
              "          quickchartButtonEl.classList.add('colab-df-spinner');\n",
              "          try {\n",
              "            const charts = await google.colab.kernel.invokeFunction(\n",
              "                'suggestCharts', [key], {});\n",
              "          } catch (error) {\n",
              "            console.error('Error during call to suggestCharts:', error);\n",
              "          }\n",
              "          quickchartButtonEl.classList.remove('colab-df-spinner');\n",
              "          quickchartButtonEl.classList.add('colab-df-quickchart-complete');\n",
              "        }\n",
              "        (() => {\n",
              "          let quickchartButtonEl =\n",
              "            document.querySelector('#df-352873d2-49bd-402e-b12b-1aedb611b35f button');\n",
              "          quickchartButtonEl.style.display =\n",
              "            google.colab.kernel.accessAllowed ? 'block' : 'none';\n",
              "        })();\n",
              "      </script>\n",
              "    </div>\n",
              "\n",
              "    </div>\n",
              "  </div>\n"
            ],
            "application/vnd.google.colaboratory.intrinsic+json": {
              "type": "dataframe",
              "variable_name": "df_encoded",
              "summary": "{\n  \"name\": \"df_encoded\",\n  \"rows\": 4240,\n  \"fields\": [\n    {\n      \"column\": \"age\",\n      \"properties\": {\n        \"dtype\": \"number\",\n        \"std\": 8,\n        \"min\": 32,\n        \"max\": 70,\n        \"num_unique_values\": 39,\n        \"samples\": [\n          34,\n          70,\n          43\n        ],\n        \"semantic_type\": \"\",\n        \"description\": \"\"\n      }\n    },\n    {\n      \"column\": \"cigsPerDay\",\n      \"properties\": {\n        \"dtype\": \"number\",\n        \"std\": 11,\n        \"min\": 0,\n        \"max\": 70,\n        \"num_unique_values\": 33,\n        \"samples\": [\n          19,\n          4,\n          6\n        ],\n        \"semantic_type\": \"\",\n        \"description\": \"\"\n      }\n    },\n    {\n      \"column\": \"totChol\",\n      \"properties\": {\n        \"dtype\": \"number\",\n        \"std\": 44,\n        \"min\": 107,\n        \"max\": 696,\n        \"num_unique_values\": 248,\n        \"samples\": [\n          311,\n          205,\n          309\n        ],\n        \"semantic_type\": \"\",\n        \"description\": \"\"\n      }\n    },\n    {\n      \"column\": \"sysBP\",\n      \"properties\": {\n        \"dtype\": \"number\",\n        \"std\": 22,\n        \"min\": 83,\n        \"max\": 295,\n        \"num_unique_values\": 134,\n        \"samples\": [\n          208,\n          144,\n          175\n        ],\n        \"semantic_type\": \"\",\n        \"description\": \"\"\n      }\n    },\n    {\n      \"column\": \"diaBP\",\n      \"properties\": {\n        \"dtype\": \"number\",\n        \"std\": 11,\n        \"min\": 48,\n        \"max\": 142,\n        \"num_unique_values\": 87,\n        \"samples\": [\n          51,\n          70,\n          101\n        ],\n        \"semantic_type\": \"\",\n        \"description\": \"\"\n      }\n    },\n    {\n      \"column\": \"BMI\",\n      \"properties\": {\n        \"dtype\": \"number\",\n        \"std\": 4,\n        \"min\": 15,\n        \"max\": 56,\n        \"num_unique_values\": 33,\n        \"samples\": [\n          41,\n          18,\n          15\n        ],\n        \"semantic_type\": \"\",\n        \"description\": \"\"\n      }\n    },\n    {\n      \"column\": \"heartRate\",\n      \"properties\": {\n        \"dtype\": \"number\",\n        \"std\": 12,\n        \"min\": 44,\n        \"max\": 143,\n        \"num_unique_values\": 73,\n        \"samples\": [\n          85,\n          47,\n          96\n        ],\n        \"semantic_type\": \"\",\n        \"description\": \"\"\n      }\n    },\n    {\n      \"column\": \"glucose\",\n      \"properties\": {\n        \"dtype\": \"number\",\n        \"std\": 22,\n        \"min\": 40,\n        \"max\": 394,\n        \"num_unique_values\": 143,\n        \"samples\": [\n          394,\n          74,\n          53\n        ],\n        \"semantic_type\": \"\",\n        \"description\": \"\"\n      }\n    },\n    {\n      \"column\": \"TenYearCHD\",\n      \"properties\": {\n        \"dtype\": \"number\",\n        \"std\": 0,\n        \"min\": 0,\n        \"max\": 1,\n        \"num_unique_values\": 2,\n        \"samples\": [\n          1,\n          0\n        ],\n        \"semantic_type\": \"\",\n        \"description\": \"\"\n      }\n    },\n    {\n      \"column\": \"gender_1\",\n      \"properties\": {\n        \"dtype\": \"number\",\n        \"std\": 0,\n        \"min\": 0,\n        \"max\": 1,\n        \"num_unique_values\": 2,\n        \"samples\": [\n          0,\n          1\n        ],\n        \"semantic_type\": \"\",\n        \"description\": \"\"\n      }\n    },\n    {\n      \"column\": \"education_2.0\",\n      \"properties\": {\n        \"dtype\": \"number\",\n        \"std\": 0,\n        \"min\": 0,\n        \"max\": 1,\n        \"num_unique_values\": 2,\n        \"samples\": [\n          1,\n          0\n        ],\n        \"semantic_type\": \"\",\n        \"description\": \"\"\n      }\n    },\n    {\n      \"column\": \"education_3.0\",\n      \"properties\": {\n        \"dtype\": \"number\",\n        \"std\": 0,\n        \"min\": 0,\n        \"max\": 1,\n        \"num_unique_values\": 2,\n        \"samples\": [\n          1,\n          0\n        ],\n        \"semantic_type\": \"\",\n        \"description\": \"\"\n      }\n    },\n    {\n      \"column\": \"education_4.0\",\n      \"properties\": {\n        \"dtype\": \"number\",\n        \"std\": 0,\n        \"min\": 0,\n        \"max\": 1,\n        \"num_unique_values\": 2,\n        \"samples\": [\n          0,\n          1\n        ],\n        \"semantic_type\": \"\",\n        \"description\": \"\"\n      }\n    },\n    {\n      \"column\": \"currentSmoker_1\",\n      \"properties\": {\n        \"dtype\": \"number\",\n        \"std\": 0,\n        \"min\": 0,\n        \"max\": 1,\n        \"num_unique_values\": 2,\n        \"samples\": [\n          1,\n          0\n        ],\n        \"semantic_type\": \"\",\n        \"description\": \"\"\n      }\n    },\n    {\n      \"column\": \"BPMeds_1.0\",\n      \"properties\": {\n        \"dtype\": \"number\",\n        \"std\": 0,\n        \"min\": 0,\n        \"max\": 1,\n        \"num_unique_values\": 2,\n        \"samples\": [\n          1,\n          0\n        ],\n        \"semantic_type\": \"\",\n        \"description\": \"\"\n      }\n    },\n    {\n      \"column\": \"prevalentStroke_1\",\n      \"properties\": {\n        \"dtype\": \"number\",\n        \"std\": 0,\n        \"min\": 0,\n        \"max\": 1,\n        \"num_unique_values\": 2,\n        \"samples\": [\n          1,\n          0\n        ],\n        \"semantic_type\": \"\",\n        \"description\": \"\"\n      }\n    },\n    {\n      \"column\": \"prevalentHyp_1\",\n      \"properties\": {\n        \"dtype\": \"number\",\n        \"std\": 0,\n        \"min\": 0,\n        \"max\": 1,\n        \"num_unique_values\": 2,\n        \"samples\": [\n          1,\n          0\n        ],\n        \"semantic_type\": \"\",\n        \"description\": \"\"\n      }\n    },\n    {\n      \"column\": \"diabetes_1\",\n      \"properties\": {\n        \"dtype\": \"number\",\n        \"std\": 0,\n        \"min\": 0,\n        \"max\": 1,\n        \"num_unique_values\": 2,\n        \"samples\": [\n          1,\n          0\n        ],\n        \"semantic_type\": \"\",\n        \"description\": \"\"\n      }\n    }\n  ]\n}"
            }
          },
          "metadata": {},
          "execution_count": 12
        }
      ]
    },
    {
      "cell_type": "code",
      "source": [
        "x = df_encoded.drop(columns=['TenYearCHD'])\n",
        "y = df_encoded['TenYearCHD']"
      ],
      "metadata": {
        "id": "Qc8_QQjXR576"
      },
      "execution_count": null,
      "outputs": []
    },
    {
      "cell_type": "code",
      "source": [
        "# Imbalance entire Outcome: TenYearCHD\n",
        "chdCount = y.value_counts()\n",
        "colors1 = [\"#FADADD\", \"#A2D5F2\"]\n",
        "plt.figure(figsize=(6,4))\n",
        "sns.barplot(x=chdCount.index, y=chdCount.values, palette=colors1)\n",
        "plt.title(\"Distribution of TenYearCHD\")\n",
        "plt.xlabel(\"CHD Status (0 = No CHD, 1 = CHD)\")\n",
        "plt.ylabel(\"Count\")\n",
        "plt.xticks(rotation = 0)\n",
        "chdCount\n",
        "## The dataset of outcome is seriously imbalanced, apply Oversampling"
      ],
      "metadata": {
        "id": "pEiy_ZjwTW_9",
        "colab": {
          "base_uri": "https://localhost:8080/",
          "height": 689
        },
        "outputId": "b964119e-59e0-41f3-d312-8f796bc23b07"
      },
      "execution_count": null,
      "outputs": [
        {
          "output_type": "stream",
          "name": "stderr",
          "text": [
            "<ipython-input-18-464f66319746>:5: FutureWarning: \n",
            "\n",
            "Passing `palette` without assigning `hue` is deprecated and will be removed in v0.14.0. Assign the `x` variable to `hue` and set `legend=False` for the same effect.\n",
            "\n",
            "  sns.barplot(x=chdCount.index, y=chdCount.values, palette=colors1)\n"
          ]
        },
        {
          "output_type": "execute_result",
          "data": {
            "text/plain": [
              "TenYearCHD\n",
              "0    3596\n",
              "1     644\n",
              "Name: count, dtype: int64"
            ],
            "text/html": [
              "<div>\n",
              "<style scoped>\n",
              "    .dataframe tbody tr th:only-of-type {\n",
              "        vertical-align: middle;\n",
              "    }\n",
              "\n",
              "    .dataframe tbody tr th {\n",
              "        vertical-align: top;\n",
              "    }\n",
              "\n",
              "    .dataframe thead th {\n",
              "        text-align: right;\n",
              "    }\n",
              "</style>\n",
              "<table border=\"1\" class=\"dataframe\">\n",
              "  <thead>\n",
              "    <tr style=\"text-align: right;\">\n",
              "      <th></th>\n",
              "      <th>count</th>\n",
              "    </tr>\n",
              "    <tr>\n",
              "      <th>TenYearCHD</th>\n",
              "      <th></th>\n",
              "    </tr>\n",
              "  </thead>\n",
              "  <tbody>\n",
              "    <tr>\n",
              "      <th>0</th>\n",
              "      <td>3596</td>\n",
              "    </tr>\n",
              "    <tr>\n",
              "      <th>1</th>\n",
              "      <td>644</td>\n",
              "    </tr>\n",
              "  </tbody>\n",
              "</table>\n",
              "</div><br><label><b>dtype:</b> int64</label>"
            ]
          },
          "metadata": {},
          "execution_count": 18
        },
        {
          "output_type": "display_data",
          "data": {
            "text/plain": [
              "<Figure size 600x400 with 1 Axes>"
            ],
            "image/png": "[encoded data removed]"
          },
          "metadata": {}
        }
      ]
    },
    {
      "cell_type": "code",
      "source": [
        "# Split the dataset into training and testing\n",
        "x_train, x_test, y_train, y_test = train_test_split(x, y, test_size=0.20, random_state=42)"
      ],
      "metadata": {
        "id": "S9k1mUqz75pu"
      },
      "execution_count": null,
      "outputs": []
    },
    {
      "cell_type": "markdown",
      "source": [
        "Apply **Oversampling** to balance the dataset"
      ],
      "metadata": {
        "id": "fgJIjRho9a70"
      }
    },
    {
      "cell_type": "code",
      "source": [
        "# Apply SMOTE only to training data\n",
        "smote = SMOTE(random_state=42)\n",
        "x_train_resampled, y_train_resampled = smote.fit_resample(x_train, y_train)\n",
        "\n",
        "plt.figure(figsize=(6,4))\n",
        "sns.barplot(x=y_train_resampled.value_counts().index, y=y_train_resampled.value_counts().values, palette=colors1)\n",
        "plt.title(\"Distribution in training TenYearCHD after Oversampling\")\n",
        "plt.xlabel(\"CHD Status (0 = No CHD, 1 = CHD)\")\n",
        "plt.ylabel(\"Count\")\n",
        "plt.show()\n",
        "## Ensure the model is trained on a balanced dataset."
      ],
      "metadata": {
        "id": "Em6CRjqOPQzA",
        "colab": {
          "base_uri": "https://localhost:8080/",
          "height": 419
        },
        "outputId": "cdbc82e7-cd73-4fe2-d496-2b4befad35ea"
      },
      "execution_count": null,
      "outputs": [
        {
          "output_type": "display_data",
          "data": {
            "text/plain": [
              "<Figure size 600x400 with 1 Axes>"
            ],
            "image/png": "[encoded data removed]"
          },
          "metadata": {}
        }
      ]
    },
    {
      "cell_type": "code",
      "source": [
        "# RFE with RandomForest\n",
        "rfe = RFE(estimator=RandomForestClassifier(), n_features_to_select=7)\n",
        "rfeModel = rfe.fit(x_train_resampled, y_train_resampled)\n",
        "rfeModel\n",
        "rfeModel.ranking_\n",
        "rfeModel.feature_names_in_"
      ],
      "metadata": {
        "id": "cqoTRilEPQom",
        "colab": {
          "base_uri": "https://localhost:8080/"
        },
        "outputId": "157a0140-757b-42e6-f871-84de551f4f97"
      },
      "execution_count": null,
      "outputs": [
        {
          "output_type": "execute_result",
          "data": {
            "text/plain": [
              "array(['age', 'cigsPerDay', 'totChol', 'sysBP', 'diaBP', 'BMI',\n",
              "       'heartRate', 'glucose', 'gender_1', 'education_2.0',\n",
              "       'education_3.0', 'education_4.0', 'currentSmoker_1', 'BPMeds_1.0',\n",
              "       'prevalentStroke_1', 'prevalentHyp_1', 'diabetes_1'], dtype=object)"
            ]
          },
          "metadata": {},
          "execution_count": 21
        }
      ]
    },
    {
      "cell_type": "code",
      "source": [
        "# Feature Ranking in a DataFrame\n",
        "rank = pd.DataFrame({'Features': rfeModel.feature_names_in_,'Ranking': rfeModel.ranking_})\n",
        "rank[rank['Ranking'] == 1]['Features'].values"
      ],
      "metadata": {
        "id": "YSyR3HKiPQdr",
        "colab": {
          "base_uri": "https://localhost:8080/"
        },
        "outputId": "530bd591-e08e-4615-9359-960f53a0bb95"
      },
      "execution_count": null,
      "outputs": [
        {
          "output_type": "execute_result",
          "data": {
            "text/plain": [
              "array(['age', 'cigsPerDay', 'totChol', 'sysBP', 'diaBP', 'heartRate',\n",
              "       'glucose'], dtype=object)"
            ]
          },
          "metadata": {},
          "execution_count": 22
        }
      ]
    },
    {
      "cell_type": "code",
      "source": [
        "features=[]\n",
        "for i in rank[rank['Ranking']==1]['Features'].values:\n",
        "    features.append(i)\n",
        "features"
      ],
      "metadata": {
        "id": "Txz8TI1mPQMO",
        "colab": {
          "base_uri": "https://localhost:8080/"
        },
        "outputId": "6021339b-0bb6-416a-f6c7-39883f5a9cbd"
      },
      "execution_count": null,
      "outputs": [
        {
          "output_type": "execute_result",
          "data": {
            "text/plain": [
              "['age', 'cigsPerDay', 'totChol', 'sysBP', 'diaBP', 'heartRate', 'glucose']"
            ]
          },
          "metadata": {},
          "execution_count": 23
        }
      ]
    },
    {
      "cell_type": "code",
      "source": [
        "x_train_rfe = x_train_resampled[features]\n",
        "x_test_rfe = x_test[features]"
      ],
      "metadata": {
        "id": "zxq1SqbS8gbL"
      },
      "execution_count": null,
      "outputs": []
    },
    {
      "cell_type": "markdown",
      "source": [
        "***LogisticRegressionClassifier()***"
      ],
      "metadata": {
        "id": "ZsHRr-bjQrA3"
      }
    },
    {
      "cell_type": "code",
      "source": [
        "# Baseline Model\n",
        "## Initialize Logistic Regression Classifier\n",
        "scaler = StandardScaler()\n",
        "x_train_scaled = scaler.fit_transform(x_train_rfe)\n",
        "x_test_scaled = scaler.transform(x_test_rfe)\n",
        "x_train_scaled = pd.DataFrame(x_train_scaled, columns=x_train_rfe.columns)\n",
        "x_test_scaled = pd.DataFrame(x_test_scaled, columns=x_test_rfe.columns)\n",
        "logisticModel = LogisticRegression(max_iter = 1000, class_weight=\"balanced\", random_state=42)\n",
        "logisticModel.fit(x_train_scaled, y_train_resampled)\n",
        "\n",
        "y_pred_train = logisticModel.predict(x_train_scaled)\n",
        "y_pred_test = logisticModel.predict(x_test_scaled)\n",
        "\n",
        "print(\"The train accuracy score is: \",accuracy_score(y_train_resampled,y_pred_train))\n",
        "print(\"The test accuracy score is: \",accuracy_score(y_test,y_pred_test))\n",
        "print(\"-\"*50)\n",
        "print(\"The train precision score is: \",precision_score(y_train_resampled,y_pred_train))\n",
        "print(\"The test precision score is: \",accuracy_score(y_test,y_pred_test))\n",
        "print(\"-\"*50)\n",
        "print(\"The train recall score is: \",recall_score(y_train_resampled,y_pred_train))\n",
        "print(\"The test recall score is: \",recall_score(y_test,y_pred_test))\n",
        "print(\"-\"*50)\n",
        "print(\"The train f1-score score is: \",f1_score(y_train_resampled,y_pred_train))\n",
        "print(\"The test f1-score score is: \",f1_score(y_test,y_pred_test))"
      ],
      "metadata": {
        "id": "zSKZ2yD_i90o",
        "colab": {
          "base_uri": "https://localhost:8080/"
        },
        "outputId": "3ccae295-f89f-4b38-9a69-e2b571ae6808"
      },
      "execution_count": null,
      "outputs": [
        {
          "output_type": "stream",
          "name": "stdout",
          "text": [
            "The train accuracy score is:  0.6675374433995124\n",
            "The test accuracy score is:  0.6415094339622641\n",
            "--------------------------------------------------\n",
            "The train precision score is:  0.6626098715348209\n",
            "The test precision score is:  0.6415094339622641\n",
            "--------------------------------------------------\n",
            "The train recall score is:  0.6826889585510275\n",
            "The test recall score is:  0.6016260162601627\n",
            "--------------------------------------------------\n",
            "The train f1-score score is:  0.6724995711099674\n",
            "The test f1-score score is:  0.3274336283185841\n"
          ]
        }
      ]
    },
    {
      "cell_type": "code",
      "source": [
        "# Compute permutation importance\n",
        "logistic_perm_importance = permutation_importance(logisticModel, x_test_scaled, y_test, n_repeats=10, random_state=42)\n",
        "\n",
        "logistic_feature_importance = pd.DataFrame({\n",
        "    \"Feature\": x_train_scaled.columns,\n",
        "    \"Importance\": logistic_perm_importance.importances_mean\n",
        "}).sort_values(by=\"Importance\", ascending=False)\n",
        "logistic_feature_importance\n",
        "\n",
        "# Access the coefficients of the fitted logistic regression model\n",
        "logistic_importance = np.abs(logisticModel.coef_[0])\n",
        "\n",
        "# Plot feature importance based on coefficients\n",
        "plt.bar(x_train_scaled.columns, logistic_importance)\n",
        "plt.title(\"Feature Importance from Logistic Regression Coefficients\")\n",
        "plt.xlabel(\"Features\")\n",
        "plt.ylabel(\"Importance\")\n",
        "plt.xticks(rotation=45, ha='right')\n",
        "plt.show()"
      ],
      "metadata": {
        "id": "eYOnSRjdqXWY",
        "colab": {
          "base_uri": "https://localhost:8080/",
          "height": 536
        },
        "outputId": "2a6d7981-00d4-4209-a0e0-ec638f291c40"
      },
      "execution_count": null,
      "outputs": [
        {
          "output_type": "display_data",
          "data": {
            "text/plain": [
              "<Figure size 640x480 with 1 Axes>"
            ],
            "image/png": "[encoded data removed]"
          },
          "metadata": {}
        }
      ]
    },
    {
      "cell_type": "code",
      "source": [
        "# Optimization\n",
        "## Apply L1 Regularization (LASSO) to Remove Correlated Features\n",
        "lassoModel = LogisticRegression(penalty='l1', solver='liblinear', max_iter=1000, class_weight=\"balanced\", random_state=42)\n",
        "lassoModel.fit(x_train_resampled, y_train_resampled)\n",
        "\n",
        "lassoFeatures = x_train_resampled.columns[lassoModel.coef_[0] != 0]\n",
        "lassoFeatures = lassoFeatures[:7] # Select top 7 features as RFE\n",
        "lassoFeatures\n",
        "# Index(['age', 'cigsPerDay', 'totChol', 'sysBP', 'diaBP', 'BMI', 'heartRate', dtype='object')\n",
        "# Compared the features selected by RFE vs. LASSO, add 'BMI' and remove 'glucose'"
      ],
      "metadata": {
        "id": "MJh5pMBQkEl1",
        "colab": {
          "base_uri": "https://localhost:8080/"
        },
        "outputId": "b51ab1aa-23b3-42d2-e1c0-f4b0e9786941"
      },
      "execution_count": null,
      "outputs": [
        {
          "output_type": "execute_result",
          "data": {
            "text/plain": [
              "Index(['age', 'cigsPerDay', 'totChol', 'sysBP', 'diaBP', 'BMI', 'heartRate'], dtype='object')"
            ]
          },
          "metadata": {},
          "execution_count": 26
        }
      ]
    },
    {
      "cell_type": "code",
      "source": [
        "x_train_lasso = x_train_resampled[lassoFeatures]\n",
        "x_test_lasso = x_test[lassoFeatures]\n",
        "\n",
        "lassoModel.fit(x_train_lasso, y_train_resampled)\n",
        "y_pred_lasso_train = lassoModel.predict(x_train_lasso)\n",
        "y_pred_lasso_test = lassoModel.predict(x_test_lasso)\n",
        "\n",
        "print(\"The train accuracy score is: \",accuracy_score(y_train_resampled,y_pred_lasso_train))\n",
        "print(\"The test accuracy score is: \",accuracy_score(y_test,y_pred_lasso_test))\n",
        "print(\"-\"*50)\n",
        "print(\"The train precision score is: \",precision_score(y_train_resampled,y_pred_lasso_train))\n",
        "print(\"The test precision score is: \",accuracy_score(y_test,y_pred_lasso_test))\n",
        "print(\"-\"*50)\n",
        "print(\"The train recall score is: \",recall_score(y_train_resampled,y_pred_lasso_train))\n",
        "print(\"The test recall score is: \",recall_score(y_test,y_pred_lasso_test))\n",
        "print(\"-\"*50)\n",
        "print(\"The train f1-score score is: \",f1_score(y_train_resampled,y_pred_lasso_train))\n",
        "print(\"The test f1-score score is: \",f1_score(y_test,y_pred_lasso_test))\n",
        "# Worse performance, give it up"
      ],
      "metadata": {
        "id": "PhRXaFL0CgE9",
        "colab": {
          "base_uri": "https://localhost:8080/"
        },
        "outputId": "c7e5b045-33ca-4576-fd81-f5cdfd060f01"
      },
      "execution_count": null,
      "outputs": [
        {
          "output_type": "stream",
          "name": "stdout",
          "text": [
            "The train accuracy score is:  0.6607453848833159\n",
            "The test accuracy score is:  0.6356132075471698\n",
            "--------------------------------------------------\n",
            "The train precision score is:  0.6567062818336163\n",
            "The test precision score is:  0.6356132075471698\n",
            "--------------------------------------------------\n",
            "The train recall score is:  0.6736328805294323\n",
            "The test recall score is:  0.6097560975609756\n",
            "--------------------------------------------------\n",
            "The train f1-score score is:  0.6650618982118295\n",
            "The test f1-score score is:  0.32679738562091504\n"
          ]
        }
      ]
    },
    {
      "cell_type": "code",
      "source": [
        "# Compute LASSO permutation importance\n",
        "lasso_perm_importance = permutation_importance(lassoModel, x_test_lasso, y_test, n_repeats=10, random_state=42)\n",
        "\n",
        "lasso_feature_importance = pd.DataFrame({\n",
        "    \"Feature\": x_train_lasso.columns,\n",
        "    \"Importance\": lasso_perm_importance.importances_mean\n",
        "}).sort_values(by=\"Importance\", ascending=False)\n",
        "lasso_feature_importance\n",
        "\n",
        "lasso_importance = np.abs(lassoModel.coef_[0])\n",
        "plt.bar(x_train_lasso.columns, lasso_importance)\n",
        "plt.title(\"Feature Importance from LASSO Coefficients\")\n",
        "plt.xlabel(\"Features\")\n",
        "plt.ylabel(\"Importance\")\n",
        "plt.xticks(rotation=45, ha='right')\n",
        "plt.show()"
      ],
      "metadata": {
        "id": "Gx9nqVqWNcTp",
        "colab": {
          "base_uri": "https://localhost:8080/",
          "height": 536
        },
        "outputId": "ff031160-9a2e-4627-bc14-206b19088ed4"
      },
      "execution_count": null,
      "outputs": [
        {
          "output_type": "display_data",
          "data": {
            "text/plain": [
              "<Figure size 640x480 with 1 Axes>"
            ],
            "image/png": "[encoded data removed]"
          },
          "metadata": {}
        }
      ]
    },
    {
      "cell_type": "markdown",
      "source": [
        "***KNeighboursClassifier()***"
      ],
      "metadata": {
        "id": "aKJCMUnU-IEC"
      }
    },
    {
      "cell_type": "code",
      "source": [
        "# Baseline Model\n",
        "## Initialize KNN Classifier\n",
        "knn = KNeighborsClassifier() # Default: n_neighbour = 5, metric = 'minkowski'\n",
        "knnModel = knn.fit(x_train_scaled, y_train_resampled)\n",
        "knnModel\n",
        "y_pred_train = knnModel.predict(x_train_scaled)\n",
        "y_pred_test = knnModel.predict(x_test_scaled)\n",
        "\n",
        "print(\"The train accuracy score is: \",accuracy_score(y_train_resampled,y_pred_train))\n",
        "print(\"The test accuracy score is: \",accuracy_score(y_test,y_pred_test))\n",
        "print(\"-\"*50)\n",
        "print(\"The train precision score is: \",precision_score(y_train_resampled,y_pred_train))\n",
        "print(\"The test precision score is: \",accuracy_score(y_test,y_pred_test))\n",
        "print(\"-\"*50)\n",
        "print(\"The train recall score is: \",recall_score(y_train_resampled,y_pred_train))\n",
        "print(\"The test recall score is: \",recall_score(y_test,y_pred_test))\n",
        "print(\"-\"*50)\n",
        "print(\"The train f1-score score is: \",f1_score(y_train_resampled,y_pred_train))\n",
        "print(\"The test f1-score score is: \",f1_score(y_test,y_pred_test))\n",
        "print(\"-\"*50)"
      ],
      "metadata": {
        "id": "1qgeehY8-Tyh",
        "colab": {
          "base_uri": "https://localhost:8080/"
        },
        "outputId": "cab2462d-b497-4468-a893-5c7d6d86f6e7"
      },
      "execution_count": null,
      "outputs": [
        {
          "output_type": "stream",
          "name": "stdout",
          "text": [
            "The train accuracy score is:  0.874085684430512\n",
            "The test accuracy score is:  0.6438679245283019\n",
            "--------------------------------------------------\n",
            "The train precision score is:  0.8075601374570447\n",
            "The test precision score is:  0.6438679245283019\n",
            "--------------------------------------------------\n",
            "The train recall score is:  0.9822361546499477\n",
            "The test recall score is:  0.4959349593495935\n",
            "--------------------------------------------------\n",
            "The train f1-score score is:  0.8863743517208864\n",
            "The test f1-score score is:  0.28773584905660377\n",
            "--------------------------------------------------\n"
          ]
        }
      ]
    },
    {
      "cell_type": "markdown",
      "source": [
        "Optimzed Model:\n",
        "\n",
        "Apply **Euclidean distance with neighbor number = 5** *(high-dimension hyperparameter settings)* and **Mahanttan distance with neighbor number = 3** *(configurations after GridSearchCV optimization over key hyperparameters)* to the same scaled data to get the accompanying plot for further Classifiers due to the top performaces from cross-validation to balance train/test metrices, along with the evaluation for overfitting and generalization."
      ],
      "metadata": {
        "id": "CdmvynA0fpyM"
      }
    },
    {
      "cell_type": "code",
      "source": [
        "params=[{'n_neighbors': [3, 5, 7, 9], 'metric': ['euclidean', 'manhattan', 'minkowski']}]\n",
        "grd=GridSearchCV(estimator = knn,param_grid=params,cv = 3)\n",
        "grd_model=grd.fit(x_train_scaled,y_train_resampled)\n",
        "grd_model.best_params_"
      ],
      "metadata": {
        "id": "inh_GLff-fcL",
        "colab": {
          "base_uri": "https://localhost:8080/"
        },
        "outputId": "4e0cc764-cde4-45b2-aa67-c0c49db75efe"
      },
      "execution_count": null,
      "outputs": [
        {
          "output_type": "execute_result",
          "data": {
            "text/plain": [
              "{'metric': 'manhattan', 'n_neighbors': 3}"
            ]
          },
          "metadata": {},
          "execution_count": 31
        }
      ]
    },
    {
      "cell_type": "code",
      "source": [
        "knn1 = KNeighborsClassifier(metric = 'euclidean', n_neighbors = 5)\n",
        "knn1Model = knn1.fit(x_train_scaled, y_train_resampled)\n",
        "y_pred_train = knn1Model.predict(x_train_scaled)\n",
        "y_pred_test = knn1Model.predict(x_test_scaled)\n",
        "\n",
        "print(\"The train accuracy score is: \",accuracy_score(y_train_resampled,y_pred_train))\n",
        "print(\"The test accuracy score is: \",accuracy_score(y_test,y_pred_test))\n",
        "print(\"-\"*50)\n",
        "print(\"The train precision score is: \",precision_score(y_train_resampled,y_pred_train))\n",
        "print(\"The test precision score is: \",accuracy_score(y_test,y_pred_test))\n",
        "print(\"-\"*50)\n",
        "print(\"The train recall score is: \",recall_score(y_train_resampled,y_pred_train))\n",
        "print(\"The test recall score is: \",recall_score(y_test,y_pred_test))\n",
        "print(\"-\"*50)\n",
        "print(\"The train f1-score score is: \",f1_score(y_train_resampled,y_pred_train))\n",
        "print(\"The test f1-score score is: \",f1_score(y_test,y_pred_test))"
      ],
      "metadata": {
        "id": "AyDrQEUL-xn8",
        "colab": {
          "base_uri": "https://localhost:8080/"
        },
        "outputId": "dd61ad94-1229-4b6b-fb87-4b38af4b66b2"
      },
      "execution_count": null,
      "outputs": [
        {
          "output_type": "stream",
          "name": "stdout",
          "text": [
            "The train accuracy score is:  0.874085684430512\n",
            "The test accuracy score is:  0.6438679245283019\n",
            "--------------------------------------------------\n",
            "The train precision score is:  0.8075601374570447\n",
            "The test precision score is:  0.6438679245283019\n",
            "--------------------------------------------------\n",
            "The train recall score is:  0.9822361546499477\n",
            "The test recall score is:  0.4959349593495935\n",
            "--------------------------------------------------\n",
            "The train f1-score score is:  0.8863743517208864\n",
            "The test f1-score score is:  0.28773584905660377\n"
          ]
        }
      ]
    },
    {
      "cell_type": "code",
      "source": [
        "knn2 = KNeighborsClassifier(metric = 'manhattan', n_neighbors = 3)\n",
        "knn2Model = knn2.fit(x_train_scaled, y_train_resampled)\n",
        "y_pred_train = knn2Model.predict(x_train_scaled)\n",
        "y_pred_test = knn2Model.predict(x_test_scaled)\n",
        "\n",
        "print(\"The train accuracy score is: \",accuracy_score(y_train_resampled,y_pred_train))\n",
        "print(\"The test accuracy score is: \",accuracy_score(y_test,y_pred_test))\n",
        "print(\"-\"*50)\n",
        "print(\"The train precision score is: \",precision_score(y_train_resampled,y_pred_train))\n",
        "print(\"The test precision score is: \",accuracy_score(y_test,y_pred_test))\n",
        "print(\"-\"*50)\n",
        "print(\"The train recall score is: \",recall_score(y_train_resampled,y_pred_train))\n",
        "print(\"The test recall score is: \",recall_score(y_test,y_pred_test))\n",
        "print(\"-\"*50)\n",
        "print(\"The train f1-score score is: \",f1_score(y_train_resampled,y_pred_train))\n",
        "print(\"The test f1-score score is: \",f1_score(y_test,y_pred_test))"
      ],
      "metadata": {
        "id": "RIE5YecLdeb8",
        "colab": {
          "base_uri": "https://localhost:8080/"
        },
        "outputId": "9e3e776f-5cc2-4821-f640-64b4aaf13cd0"
      },
      "execution_count": null,
      "outputs": [
        {
          "output_type": "stream",
          "name": "stdout",
          "text": [
            "The train accuracy score is:  0.9146638801811215\n",
            "The test accuracy score is:  0.6863207547169812\n",
            "--------------------------------------------------\n",
            "The train precision score is:  0.8589086523967441\n",
            "The test precision score is:  0.6863207547169812\n",
            "--------------------------------------------------\n",
            "The train recall score is:  0.9923371647509579\n",
            "The test recall score is:  0.43902439024390244\n",
            "--------------------------------------------------\n",
            "The train f1-score score is:  0.920814479638009\n",
            "The test f1-score score is:  0.2887700534759358\n"
          ]
        }
      ]
    },
    {
      "cell_type": "markdown",
      "source": [
        "\n",
        "\n",
        "*   KNN Model slightly outperformed or matched KNN Model with Eucild distance (n_neighbor = 5) in CV grid search with {'metric': 'manhattan', 'n_neighbors': 3} being the best param set.\n",
        "\n",
        "*   The Manhattan metric often performs better in high-dimensional or sparse data, which matches your scaled 7-feature setup.\n",
        "\n",
        "*   A smaller k = 3 gives more flexible decision boundaries, which can be helpful when classifying minority-class CHD cases post-SMOTE.\n",
        "\n",
        "**However, its test performance sharply deteriorated**\n",
        "\n",
        "| Metric   | Train | Test  |\n",
        "| -------- | ----- | ----- |\n",
        "| Recall   | 98.3% | 49.6% |\n",
        "| F1-Score | 88.6% | 28.7% |\n",
        "\n",
        "\n",
        "1.   **Severe Overfitting**: KNN memorized the training set especially after SMOTE, but failed to generalize to unseen test data.\n",
        "2.   **Poor test F1-score** undermines reliability in identifying actual CHD cases.\n",
        "3.   **Generalization gap** remained large.\n",
        "\n",
        "***Conclusion***:\n",
        "\n",
        "KNN was excluded due to instability and poor generalization, especially for minority class detection, making it unreliable for CHD screening in a public health context.\n"
      ],
      "metadata": {
        "id": "GO3W5Q9pgo0i"
      }
    },
    {
      "cell_type": "code",
      "source": [
        "knn_perm_importance = permutation_importance(knn2Model, x_test_scaled, y_test, n_repeats=10, random_state=42)\n",
        "\n",
        "# Create a DataFrame to store feature importance\n",
        "knn_feature_importance = pd.DataFrame({\n",
        "    \"Feature\": x_train_scaled.columns,\n",
        "    \"Importance\": knn_perm_importance.importances_mean\n",
        "}).sort_values(by=\"Importance\", ascending=False)\n",
        "\n",
        "# Plot feature importance\n",
        "plt.bar(knn_feature_importance[\"Feature\"], knn_feature_importance[\"Importance\"])\n",
        "plt.title(\"Feature Importance for KNN (Permutation Importance)\")\n",
        "plt.xlabel(\"Features\")\n",
        "plt.ylabel(\"Importance\")\n",
        "plt.xticks(rotation=45, ha='right')  # Rotate x-axis labels for better readability\n",
        "plt.show()"
      ],
      "metadata": {
        "id": "TPYJJnwAt7Vc",
        "colab": {
          "base_uri": "https://localhost:8080/",
          "height": 536
        },
        "outputId": "923bc23e-1e73-4608-84b3-def585d3d127"
      },
      "execution_count": null,
      "outputs": [
        {
          "output_type": "display_data",
          "data": {
            "text/plain": [
              "<Figure size 640x480 with 1 Axes>"
            ],
            "image/png": "[encoded data removed]"
          },
          "metadata": {}
        }
      ]
    },
    {
      "cell_type": "markdown",
      "source": [
        "***DecisionTreeClassifier()***"
      ],
      "metadata": {
        "id": "Ez57UKy9_CNg"
      }
    },
    {
      "cell_type": "code",
      "source": [
        "dt = DecisionTreeClassifier()\n",
        "dtModel = dt.fit(x_train_rfe, y_train_resampled)\n",
        "dtModel\n",
        "\n",
        "y_pred_train = dtModel.predict(x_train_rfe)\n",
        "y_pred_test = dtModel.predict(x_test_rfe)\n",
        "\n",
        "print(\"The train accuracy score is: \",accuracy_score(y_train_resampled,y_pred_train))\n",
        "print(\"The test accuracy score is: \",accuracy_score(y_test,y_pred_test))\n",
        "print(\"-\"*50)\n",
        "print(\"The train precision score is: \",precision_score(y_train_resampled,y_pred_train))\n",
        "print(\"The test precision score is: \",accuracy_score(y_test,y_pred_test))\n",
        "print(\"-\"*50)\n",
        "print(\"The train recall score is: \",recall_score(y_train_resampled,y_pred_train))\n",
        "print(\"The test recall score is: \",recall_score(y_test,y_pred_test))\n",
        "print(\"-\"*50)\n",
        "print(\"The train f1-score score is: \",f1_score(y_train_resampled,y_pred_train))\n",
        "print(\"The test f1-score score is: \",f1_score(y_test,y_pred_test))\n",
        "# Overfitting!"
      ],
      "metadata": {
        "id": "z9G8Rz-Od5V2",
        "colab": {
          "base_uri": "https://localhost:8080/"
        },
        "outputId": "0d1dfd8a-e9de-4f85-a209-7b6e98cef90e"
      },
      "execution_count": null,
      "outputs": [
        {
          "output_type": "stream",
          "name": "stdout",
          "text": [
            "The train accuracy score is:  1.0\n",
            "The test accuracy score is:  0.7099056603773585\n",
            "--------------------------------------------------\n",
            "The train precision score is:  1.0\n",
            "The test precision score is:  0.7099056603773585\n",
            "--------------------------------------------------\n",
            "The train recall score is:  1.0\n",
            "The test recall score is:  0.25203252032520324\n",
            "--------------------------------------------------\n",
            "The train f1-score score is:  1.0\n",
            "The test f1-score score is:  0.2012987012987013\n"
          ]
        }
      ]
    },
    {
      "cell_type": "code",
      "source": [
        "params=[{'criterion':['gini','entropy'],'max_depth':range(4,11),'min_samples_split':range(2,10)}]\n",
        "grd=GridSearchCV(estimator=dt,param_grid=params,cv=3)\n",
        "grd_model=grd.fit(x_train_rfe,y_train_resampled)\n",
        "grd_model.best_params_  # {'criterion': 'gini', 'max_depth': 10, 'min_samples_split': 2}"
      ],
      "metadata": {
        "id": "714ohmAz_JmF",
        "colab": {
          "base_uri": "https://localhost:8080/"
        },
        "outputId": "d08522a1-2651-439c-86d2-bd43356e0449"
      },
      "execution_count": null,
      "outputs": [
        {
          "output_type": "execute_result",
          "data": {
            "text/plain": [
              "{'criterion': 'gini', 'max_depth': 10, 'min_samples_split': 3}"
            ]
          },
          "metadata": {},
          "execution_count": 37
        }
      ]
    },
    {
      "cell_type": "code",
      "source": [
        "dt=DecisionTreeClassifier(criterion='gini',max_depth=10,min_samples_split=2)\n",
        "dtModel=dt.fit(x_train_rfe,y_train_resampled)\n",
        "y_pred_train=dtModel.predict(x_train_rfe)\n",
        "y_pred_test=dtModel.predict(x_test_rfe)\n",
        "\n",
        "print(\"The train accuracy score is: \",accuracy_score(y_train_resampled,y_pred_train))\n",
        "print(\"The test accuracy score is: \",accuracy_score(y_test,y_pred_test))\n",
        "print(\"-\"*50)\n",
        "print(\"The train precision score is: \",precision_score(y_train_resampled,y_pred_train))\n",
        "print(\"The test precision score is: \",accuracy_score(y_test,y_pred_test))\n",
        "print(\"-\"*50)\n",
        "print(\"The train recall score is: \",recall_score(y_train_resampled,y_pred_train))\n",
        "print(\"The test recall score is: \",recall_score(y_test,y_pred_test))\n",
        "print(\"-\"*50)\n",
        "print(\"The train f1-score score is: \",f1_score(y_train_resampled,y_pred_train))\n",
        "print(\"The test f1-score score is: \",f1_score(y_test,y_pred_test))"
      ],
      "metadata": {
        "id": "xQmQIezT_Scd",
        "colab": {
          "base_uri": "https://localhost:8080/"
        },
        "outputId": "495cd585-eba9-419f-e332-31e4acd67706"
      },
      "execution_count": null,
      "outputs": [
        {
          "output_type": "stream",
          "name": "stdout",
          "text": [
            "The train accuracy score is:  0.8296760710553814\n",
            "The test accuracy score is:  0.6415094339622641\n",
            "--------------------------------------------------\n",
            "The train precision score is:  0.807604809879753\n",
            "The test precision score is:  0.6415094339622641\n",
            "--------------------------------------------------\n",
            "The train recall score is:  0.8655520724486242\n",
            "The test recall score is:  0.35772357723577236\n",
            "--------------------------------------------------\n",
            "The train f1-score score is:  0.8355749831876261\n",
            "The test f1-score score is:  0.22448979591836735\n"
          ]
        }
      ]
    },
    {
      "cell_type": "markdown",
      "source": [
        "**Tuned decision tree reduced overfitting** compared to its default version, but still underperformed:\n",
        "\n",
        "| Metric   | Train | Test  |\n",
        "| -------- | ----- | ----- |\n",
        "| Recall   | 91.6% | 48.0% |\n",
        "| F1-Score | 84.3% | 26.3% |\n",
        "\n",
        "\n",
        "1.   **Test recall below 50%** is unacceptable for CHD detection.\n",
        "  *   **Test recall shows how many people at real risk of CHD the model correctly identifies on new data**. 48.0%, meaning it missed more than half of the people who truly had CHD risk. This is unacceptable because it means many high-risk individuals would go undetected.\n",
        "\n",
        "\n",
        "2.   Even with hyperparameter tuning (max_depth=10, min_samples_split=2), the **sensitivity remained low**.\n",
        "3.   High variance suggests that the tree is sensitive to SMOTE-generated samples, possibly overfitting their patterns.\n",
        "\n",
        "***Conclusion***:\n",
        "\n",
        "Decision Tree was dropped due to low sensitivity and high variance, making it less suitable for a recall-prioritized classification goal."
      ],
      "metadata": {
        "id": "GbTI8yA9jvA0"
      }
    },
    {
      "cell_type": "code",
      "source": [
        "plt.bar(x_train_rfe.columns, dtModel.feature_importances_)\n",
        "plt.title(\"Feature Importance in Decision Tree Model\")\n",
        "plt.xlabel(\"Features\")\n",
        "plt.ylabel(\"Importance\")\n",
        "plt.xticks(rotation=45, ha='right')\n",
        "plt.show()"
      ],
      "metadata": {
        "id": "BzUrT_nupCQT",
        "colab": {
          "base_uri": "https://localhost:8080/",
          "height": 536
        },
        "outputId": "c8abfcea-f791-41f3-980a-8813500b0877"
      },
      "execution_count": null,
      "outputs": [
        {
          "output_type": "display_data",
          "data": {
            "text/plain": [
              "<Figure size 640x480 with 1 Axes>"
            ],
            "image/png": "[encoded data removed]"
          },
          "metadata": {}
        }
      ]
    },
    {
      "cell_type": "markdown",
      "source": [
        "***RandomForestClassifier()***"
      ],
      "metadata": {
        "id": "MjOrD418_dW5"
      }
    },
    {
      "cell_type": "code",
      "source": [
        "rf = RandomForestClassifier()\n",
        "rfModel = rf.fit(x_train_rfe, y_train_resampled)\n",
        "rfModel\n",
        "y_pred_train=rfModel.predict(x_train_rfe)\n",
        "y_pred_test=rfModel.predict(x_test_rfe)\n",
        "\n",
        "print(\"The train accuracy score is: \",accuracy_score(y_train_resampled,y_pred_train))\n",
        "print(\"The test accuracy score is: \",accuracy_score(y_test,y_pred_test))\n",
        "print(\"-\"*50)\n",
        "print(\"The train precision score is: \",precision_score(y_train_resampled,y_pred_train))\n",
        "print(\"The test precision score is: \",accuracy_score(y_test,y_pred_test))\n",
        "print(\"-\"*50)\n",
        "print(\"The train recall score is: \",recall_score(y_train_resampled,y_pred_train))\n",
        "print(\"The test recall score is: \",recall_score(y_test,y_pred_test))\n",
        "print(\"-\"*50)\n",
        "print(\"The train f1-score score is: \",f1_score(y_train_resampled,y_pred_train))\n",
        "print(\"The test f1-score score is: \",f1_score(y_test,y_pred_test))\n",
        "# Overfitting"
      ],
      "metadata": {
        "id": "Hrf5yG1j_kJy",
        "colab": {
          "base_uri": "https://localhost:8080/"
        },
        "outputId": "43e65767-76be-4934-c231-3855824cfc89"
      },
      "execution_count": null,
      "outputs": [
        {
          "output_type": "stream",
          "name": "stdout",
          "text": [
            "The train accuracy score is:  1.0\n",
            "The test accuracy score is:  0.7783018867924528\n",
            "--------------------------------------------------\n",
            "The train precision score is:  1.0\n",
            "The test precision score is:  0.7783018867924528\n",
            "--------------------------------------------------\n",
            "The train recall score is:  1.0\n",
            "The test recall score is:  0.25203252032520324\n",
            "--------------------------------------------------\n",
            "The train f1-score score is:  1.0\n",
            "The test f1-score score is:  0.248\n"
          ]
        }
      ]
    },
    {
      "cell_type": "code",
      "source": [
        "params = [{'n_estimators': [100,150,200], 'max_depth':range(2,4),'max_features':[\"sqrt\", \"log2\", None]}]\n",
        "grd = GridSearchCV(estimator=rf, param_grid=params, cv=3)\n",
        "grd_model = grd.fit(x_train_rfe, y_train_resampled)\n",
        "print(grd_model.best_params_)"
      ],
      "metadata": {
        "id": "s6xzmvck_qmV",
        "colab": {
          "base_uri": "https://localhost:8080/"
        },
        "outputId": "5576150d-1149-4570-b5f5-7b88694fc499"
      },
      "execution_count": null,
      "outputs": [
        {
          "output_type": "stream",
          "name": "stdout",
          "text": [
            "{'max_depth': 3, 'max_features': 'log2', 'n_estimators': 100}\n"
          ]
        }
      ]
    },
    {
      "cell_type": "code",
      "source": [
        "# {'max_depth': 3, 'max_features': 'log2', 'n_estimators': 100}\n",
        "rf1 = RandomForestClassifier(max_depth=3, max_features='log2', n_estimators=100, random_state=42)\n",
        "rf1Model = rf1.fit(x_train_rfe, y_train_resampled)\n",
        "y_pred_train = rf1Model.predict(x_train_rfe)\n",
        "y_pred_test = rf1Model.predict(x_test_rfe)\n",
        "\n",
        "print(\"The train accuracy score is: \",accuracy_score(y_train_resampled,y_pred_train))\n",
        "print(\"The test accuracy score is: \",accuracy_score(y_test,y_pred_test))\n",
        "print(\"-\"*50)\n",
        "print(\"The train precision score is: \",precision_score(y_train_resampled,y_pred_train))\n",
        "print(\"The test precision score is: \",accuracy_score(y_test,y_pred_test))\n",
        "print(\"-\"*50)\n",
        "print(\"The train recall score is: \",recall_score(y_train_resampled,y_pred_train))\n",
        "print(\"The test recall score is: \",recall_score(y_test,y_pred_test))\n",
        "print(\"-\"*50)\n",
        "print(\"The train f1-score score is: \",f1_score(y_train_resampled,y_pred_train))\n",
        "print(\"The test f1-score score is: \",f1_score(y_test,y_pred_test))"
      ],
      "metadata": {
        "id": "tDh-_ZxD_yxe",
        "colab": {
          "base_uri": "https://localhost:8080/"
        },
        "outputId": "0b3dd92e-9beb-48cf-f9c5-28fbab98da52"
      },
      "execution_count": null,
      "outputs": [
        {
          "output_type": "stream",
          "name": "stdout",
          "text": [
            "The train accuracy score is:  0.6837338906304423\n",
            "The test accuracy score is:  0.625\n",
            "--------------------------------------------------\n",
            "The train precision score is:  0.6714332141696457\n",
            "The test precision score is:  0.625\n",
            "--------------------------------------------------\n",
            "The train recall score is:  0.7196098920236851\n",
            "The test recall score is:  0.5853658536585366\n",
            "--------------------------------------------------\n",
            "The train f1-score score is:  0.6946872898453261\n",
            "The test f1-score score is:  0.3116883116883117\n"
          ]
        }
      ]
    },
    {
      "cell_type": "markdown",
      "source": [
        "Despite its **robustness**, Random Forest failed to outperform simpler models like LASSO:\n",
        "\n",
        "| Metric   | Train | Test  |\n",
        "| -------- | ----- | ----- |\n",
        "| Recall   | 72.0% | 62.5% |\n",
        "| F1-Score | 69.5% | 31.2% |\n",
        "\n",
        "\n",
        "\n",
        "1.   **Test Recall is lower than LASSO (61.0%)**\n",
        "\n",
        "  *   Recall reflects how many people with real CHD risk the model correctly finds. In this task, we use recall to measure the model’s ability to catch true CHD cases. A higher recall means the model finds more of the people who actually have risk.\n",
        "\n",
        "2.   **Overfitting risk**: RF had perfect training scores initially (100%), and even after tuning (max_depth=3, max_features='log2'), it still kept **more features**, reducing interpretability.\n",
        "\n",
        "3.  **Permutation importance** plots show a flatter gradient of feature contributions than LASSO, making clinical interpretation harder.\n",
        "\n",
        "***Conclusion***:\n",
        "\n",
        "Random Forest was excluded because it did not improve **recall**, **increased model complexity**, and **reduced interpretability**, despite tuning."
      ],
      "metadata": {
        "id": "_Aet5kVxkdEF"
      }
    }
  ]
}